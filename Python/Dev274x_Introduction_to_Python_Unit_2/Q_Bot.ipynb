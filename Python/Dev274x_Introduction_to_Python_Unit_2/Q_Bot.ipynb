{
 "cells": [
  {
   "cell_type": "code",
   "execution_count": 92,
   "metadata": {},
   "outputs": [],
   "source": [
    "import json\n",
    "import urllib.request\n",
    "\n",
    "contactID = \"ms458j\"\n",
    "to=\"ms458j\"\n",
    "Bot_from=\"ms458j\"\n",
    "botID = \"ms458j@intl.att.com\"\n",
    "password = \"Rocktheparty123\"\n",
    "botUrl = \"http://bots.q.att.com:9015/QBotService/BotTalk?json=true\"\n",
    "\n",
    "message = \"Hello There!\"\n",
    "\n",
    "body =     {\n",
    "    \"to\":to,\n",
    "    \"from\":botID,\n",
    "    \"password\":password,\n",
    "    \"displayfromname\":Bot_from,\n",
    "    \"html\":message}\n",
    "\n",
    "req = urllib.request.Request(botUrl)\n",
    "req.add_header('Content-Type', 'application/json; charset=utf-8')\n",
    "jsondata = json.dumps(body)\n",
    "jsondataasbytes = jsondata.encode('utf-8')   # needs to be bytes\n",
    "req.add_header('Content-Length', len(jsondataasbytes))\n",
    "response = urllib.request.urlopen(req, jsondataasbytes)\n"
   ]
  },
  {
   "cell_type": "code",
   "execution_count": null,
   "metadata": {},
   "outputs": [],
   "source": []
  }
 ],
 "metadata": {
  "kernelspec": {
   "display_name": "Python 3",
   "language": "python",
   "name": "python3"
  },
  "language_info": {
   "codemirror_mode": {
    "name": "ipython",
    "version": 3
   },
   "file_extension": ".py",
   "mimetype": "text/x-python",
   "name": "python",
   "nbconvert_exporter": "python",
   "pygments_lexer": "ipython3",
   "version": "3.6.3"
  }
 },
 "nbformat": 4,
 "nbformat_minor": 2
}
