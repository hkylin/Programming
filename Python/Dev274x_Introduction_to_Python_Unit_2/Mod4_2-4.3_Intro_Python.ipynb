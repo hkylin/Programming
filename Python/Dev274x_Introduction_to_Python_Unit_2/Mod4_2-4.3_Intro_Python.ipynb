{
 "cells": [
  {
   "cell_type": "markdown",
   "metadata": {},
   "source": [
    "# 2-4.3 Intro Python\n",
    "## Working with Files\n",
    "4.1 File import in Jupyter Notebooks  \n",
    "4.1 File **`open()`** and **`.read()`**  \n",
    "4.2 File Read as a list with **`.readlines()`**  \n",
    "4.2 File Closing to free resources with **`.close`**  \n",
    "4.3 **File Read, a line at a time with `.readline()`**  \n",
    "4.3 **Remove characters using `.strip()`**  \n",
    "4.4 File **`.write()`**  with **`.seek()`**  \n",
    "4.4 File append mode \n",
    "\n",
    "----- \n",
    "\n",
    "><font size=\"5\" color=\"#00A0B2\"  face=\"verdana\"> <B>Student will be able to</B></font>  \n",
    "4.1 Import files in Jupyter Notebooks  \n",
    "4.1 **`open()`** and **`.read()`** local files in memory   \n",
    "4.1 **`.read()`** a specific number of characters  \n",
    "4.2 Use **`.readlines()`** to read data from file as a **list** of lines   \n",
    "4.2 Use **`.close`** to free system resources  \n",
    "4.3 **Use `.readline()` to read data from file, one line at a time**  \n",
    "4.3 **Use `.strip()` to remove new line characters and other whitespaces**  \n",
    "4.4 **`.write()`** data to a new local file\n",
    "4.4 Use **`.seek()`** to set file read or write location  \n",
    "4.4 Use file append mode"
   ]
  },
  {
   "cell_type": "markdown",
   "metadata": {},
   "source": [
    "# &nbsp;\n",
    "<font size=\"6\" color=\"#00A0B2\"  face=\"verdana\"> <B>Concepts</B></font>\n",
    "## .readline(): read files a line at a time\n",
    "[![view video](https://iajupyterprodblobs.blob.core.windows.net/imagecontainer/common/play_video.png)]( http://edxinteractivepage.blob.core.windows.net/edxpages/f7cff1a7-5601-48a1-95a6-fd1fdfabd20e.html?details=[{\"src\":\"http://jupyternootbookwams.streaming.mediaservices.windows.net/8f41bf3b-05b1-459e-87e9-419168b2bf0d/Unit2_Section4.3a-Readlines-Line_by_Line.ism/manifest\",\"type\":\"application/vnd.ms-sstr+xml\"}],[{\"src\":\"http://jupyternootbookwams.streaming.mediaservices.windows.net/8f41bf3b-05b1-459e-87e9-419168b2bf0d/Unit2_Section4.3a-Readlines-Line_by_Line.vtt\",\"srclang\":\"en\",\"kind\":\"subtitles\",\"label\":\"english\"}])\n",
    "### use .readline() to read a line in a file as a string\n",
    "each .readline() moves to the next available line in the file\n",
    "```python\n",
    "poem1 = open('poem1.txt', 'r')\n",
    "poem_line1 = poem1.readline()\n",
    "poem_line2 = poem1.readline()\n",
    "poem_line3 = poem1.readline()\n",
    "```"
   ]
  },
  {
   "cell_type": "markdown",
   "metadata": {},
   "source": [
    "# &nbsp;\n",
    "<font size=\"6\" color=\"#00A0B2\"  face=\"verdana\"> <B>Examples</B></font>"
   ]
  },
  {
   "cell_type": "code",
   "execution_count": null,
   "metadata": {},
   "outputs": [],
   "source": [
    "# [ ]Run to download file poem1.txt\n",
    "!curl https://raw.githubusercontent.com/MicrosoftLearning/intropython/master/poem1.txt -o poem1.txt "
   ]
  },
  {
   "cell_type": "code",
   "execution_count": 15,
   "metadata": {},
   "outputs": [
    {
     "name": "stdout",
     "output_type": "stream",
     "text": [
      "Loops I repeat\n",
      "loops\n",
      "loops\n",
      "\n"
     ]
    }
   ],
   "source": [
    "# open address to file\n",
    "# readline 1, 2, 3\n",
    "#print the first 3 .readline() values\n",
    "poem1 = open('poem1.txt', 'r')\n",
    "poem_line1 = poem1.readline()\n",
    "poem_line2 = poem1.readline()\n",
    "poem_line3 = poem1.readline()\n",
    "print(poem_line1 + poem_line2 + poem_line3)"
   ]
  },
  {
   "cell_type": "code",
   "execution_count": 24,
   "metadata": {},
   "outputs": [
    {
     "name": "stdout",
     "output_type": "stream",
     "text": [
      "1st Line: Loops I repeat\n",
      "\n",
      "2nd Line: loops\n",
      "\n",
      "3rd Line: loops\n",
      "\n",
      "4th Line: loops\n",
      "\n",
      "5th Line: I repeat\n",
      "\n",
      "6th Line: until I\n",
      "\n",
      "7th Line: break\n",
      "\n",
      "8th Line: \n",
      "9th Line: \n"
     ]
    }
   ],
   "source": [
    "# [ ] review and run example printing return value & re-run several times\n",
    "poem1 = open('poem1.txt', 'r')\n",
    "print(\"1st Line:\",poem1.readline())\n",
    "print(\"2nd Line:\",poem1.readline())\n",
    "print(\"3rd Line:\",poem1.readline())\n",
    "print(\"4th Line:\",poem1.readline())\n",
    "print(\"5th Line:\",poem1.readline())\n",
    "print(\"6th Line:\",poem1.readline())\n",
    "print(\"7th Line:\",poem1.readline())\n",
    "print(\"8th Line:\",poem1.readline())\n",
    "print(\"9th Line:\",poem1.readline())\n",
    "poem1.close()"
   ]
  },
  {
   "cell_type": "markdown",
   "metadata": {
    "collapsed": true
   },
   "source": [
    "# &nbsp;\n",
    "<font size=\"6\" color=\"#B24C00\"  face=\"verdana\"> <B>Task 1</B></font>\n",
    "\n",
    "## use readline to get rainbow colors\n",
    "- import https://raw.githubusercontent.com/MicrosoftLearning/intropython/master/rainbow as rainbow.txt  \n",
    "- open rainbow.txt as rainbow_file as read-only  \n",
    "- read the first 3 lines into variables: color1, color2, color3  \n",
    "- close rainbow_file \n",
    "- print the first 3 colors  "
   ]
  },
  {
   "cell_type": "code",
   "execution_count": null,
   "metadata": {},
   "outputs": [],
   "source": [
    "# [ ] import https://raw.githubusercontent.com/MicrosoftLearning/intropython/master/rainbow as rainbow.txt\n",
    "\n"
   ]
  },
  {
   "cell_type": "code",
   "execution_count": 26,
   "metadata": {},
   "outputs": [
    {
     "name": "stdout",
     "output_type": "stream",
     "text": [
      "red\n",
      "orange\n",
      "yellow\n",
      "\n"
     ]
    }
   ],
   "source": [
    "# open rainbow.txt as rainbow_text\n",
    "# read the first 3 lines into variables: color1, color2, color3\n",
    "# close rainbow.txt\n",
    "# print the first 3 colors\n",
    "rainbow_text = open(\"rainbow.txt\",\"r\")\n",
    "color1 = rainbow_text.readline()\n",
    "color2 = rainbow_text.readline() \n",
    "color3 = rainbow_text.readline()\n",
    "rainbow_text.close()\n",
    "print(color1 + color2 + color3)"
   ]
  },
  {
   "cell_type": "markdown",
   "metadata": {},
   "source": [
    "# &nbsp;\n",
    "<font size=\"6\" color=\"#00A0B2\"  face=\"verdana\"> <B>Concepts</B></font>\n",
    "## `.readline()` in a `while` loop\n",
    ">```python\n",
    "poem_line = poem1.readline()\n",
    "while poem_line:\n",
    "    print(poem_line.capitalized())\n",
    "    poem_line = poem1.readline()\n",
    "```  \n",
    "[![view video](https://iajupyterprodblobs.blob.core.windows.net/imagecontainer/common/play_video.png)]( http://edxinteractivepage.blob.core.windows.net/edxpages/f7cff1a7-5601-48a1-95a6-fd1fdfabd20e.html?details=[{\"src\":\"http://jupyternootbookwams.streaming.mediaservices.windows.net/4662ff60-8839-4fd7-a85d-3aba9ebf8cd3/Unit2_Section4.3b-Readlines-While_Loops.ism/manifest\",\"type\":\"application/vnd.ms-sstr+xml\"}],[{\"src\":\"http://jupyternootbookwams.streaming.mediaservices.windows.net/4662ff60-8839-4fd7-a85d-3aba9ebf8cd3/Unit2_Section4.3b-Readlines-While_Loops.vtt\",\"srclang\":\"en\",\"kind\":\"subtitles\",\"label\":\"english\"}])\n",
    "### `while .readline()` \n",
    "- while loop continues while the readline() value in poem_line returns text  \n",
    "  - a string value evaluates as True in the while loop  \n",
    "  - an empty string, '', evaluates **not True** in the while loop \n",
    "- when readline() reaches the end of the file, an empty string is returned  \n"
   ]
  },
  {
   "cell_type": "markdown",
   "metadata": {},
   "source": [
    "### &nbsp;\n",
    "<font size=\"6\" color=\"#00A0B2\"  face=\"verdana\"> <B>Examples</B></font>"
   ]
  },
  {
   "cell_type": "code",
   "execution_count": 28,
   "metadata": {},
   "outputs": [
    {
     "name": "stdout",
     "output_type": "stream",
     "text": [
      "LOOPS I REPEAT\n",
      "LOOPS\n",
      "LOOPS\n",
      "LOOPS\n",
      "I REPEAT\n",
      "UNTIL I\n",
      "BREAK\n"
     ]
    }
   ],
   "source": [
    "# review and run example\n",
    "# open address to file\n",
    "# use a while loop to read each line of a file \n",
    "# remove last character ('\\n') and print as upper case\n",
    "poem1 = open('poem1.txt', 'r')\n",
    "poem_line = poem1.readline()\n",
    "while poem_line:\n",
    "    print(poem_line[:-1].upper())\n",
    "    poem_line = poem1.readline()\n",
    "poem1.close()"
   ]
  },
  {
   "cell_type": "markdown",
   "metadata": {
    "collapsed": true
   },
   "source": [
    "# &nbsp;\n",
    "<font size=\"6\" color=\"#B24C00\"  face=\"verdana\"> <B>Task 2</B></font>\n",
    "\n",
    "## while .readline()  rainbow colors\n",
    "assumes rainbow.txt has been imported in task 1  \n",
    "- open rainbow.txt as rainbow_file as read-only  \n",
    "- read a color from each line of rainbow_file in a while loop  \n",
    "  - print each color capitalized  \n",
    "- close rainbow_file  "
   ]
  },
  {
   "cell_type": "code",
   "execution_count": 29,
   "metadata": {},
   "outputs": [
    {
     "name": "stdout",
     "output_type": "stream",
     "text": [
      "RED\n",
      "ORANGE\n",
      "YELLOW\n",
      "GREEN\n",
      "BLUE\n",
      "INDIGO\n",
      "VIOLET\n"
     ]
    }
   ],
   "source": [
    "# [ ] open rainbow.txt as rainbow_text as read-only\n",
    "# [ ] read the color from lines of rainbow_text in a while loop\n",
    "# [ ] print each color capitalized as the loop runs\n",
    "# [ ] close rainbow_text \n",
    "rainbow_text = open(\"rainbow.txt\",\"r\")\n",
    "rainbow_colors = rainbow_text.readline()\n",
    "while rainbow_colors:\n",
    "    print(rainbow_colors[:-1].upper())\n",
    "    rainbow_colors = rainbow_text.readline()\n",
    "rainbow_text.close()"
   ]
  },
  {
   "cell_type": "markdown",
   "metadata": {},
   "source": [
    "# &nbsp;\n",
    "<font size=\"6\" color=\"#00A0B2\"  face=\"verdana\"> <B>Concepts</B></font>  \n",
    "\n",
    "## `.readline()`  with `.strip()`\n",
    "[![view video](https://iajupyterprodblobs.blob.core.windows.net/imagecontainer/common/play_video.png)]( http://edxinteractivepage.blob.core.windows.net/edxpages/f7cff1a7-5601-48a1-95a6-fd1fdfabd20e.html?details=[{\"src\":\"http://jupyternootbookwams.streaming.mediaservices.windows.net/809d6b2c-1be9-4bea-8702-9eb328b9f551/Unit2_Section4.3c-Remove_Whitespace.ism/manifest\",\"type\":\"application/vnd.ms-sstr+xml\"}],[{\"src\":\"http://jupyternootbookwams.streaming.mediaservices.windows.net/809d6b2c-1be9-4bea-8702-9eb328b9f551/Unit2_Section4.3c-Remove_Whitespace.vtt\",\"srclang\":\"en\",\"kind\":\"subtitles\",\"label\":\"english\"}])\n",
    "### .strip() whitespace\n",
    "```python\n",
    "poem_line = poem1.readline().strip()\n",
    "```\n",
    "**.strip()** removes leading and trailing whitespace, including the '\\n' formatting character"
   ]
  },
  {
   "cell_type": "markdown",
   "metadata": {},
   "source": [
    "# &nbsp;\n",
    "<font size=\"6\" color=\"#00A0B2\"  face=\"verdana\"> <B>Examples</B></font>"
   ]
  },
  {
   "cell_type": "code",
   "execution_count": 31,
   "metadata": {},
   "outputs": [
    {
     "name": "stdout",
     "output_type": "stream",
     "text": [
      "Loops I repeat\n",
      "\n",
      "loops\n",
      "\n",
      "loops\n",
      "\n",
      "loops\n",
      "\n",
      "I repeat\n",
      "\n",
      "until I\n",
      "\n",
      "break\n",
      "\n"
     ]
    }
   ],
   "source": [
    "# [ ] review and run example\n",
    "# open address to file\n",
    "# [ ] review and run example - readline while loop without removing '\\n'\n",
    "poem1 = open('poem1.txt', 'r')\n",
    "poem_line = poem1.readline()\n",
    "while poem_line:\n",
    "    print(poem_line)\n",
    "    poem_line = poem1.readline()\n",
    "poem1.close()"
   ]
  },
  {
   "cell_type": "code",
   "execution_count": null,
   "metadata": {},
   "outputs": [],
   "source": []
  },
  {
   "cell_type": "markdown",
   "metadata": {},
   "source": [
    "### now with `.strip()` to remove leading and trailing whitespace characters"
   ]
  },
  {
   "cell_type": "code",
   "execution_count": 32,
   "metadata": {},
   "outputs": [
    {
     "name": "stdout",
     "output_type": "stream",
     "text": [
      "Loops I repeat\n",
      "loops\n",
      "loops\n",
      "loops\n",
      "I repeat\n",
      "until I\n",
      "break\n"
     ]
    }
   ],
   "source": [
    "# [ ] review and run example - readline with .strip() to remove '\\n'\n",
    "poem1 = open('poem1.txt', 'r')\n",
    "poem_line = poem1.readline().strip()\n",
    "while poem_line:\n",
    "    print(poem_line)\n",
    "    poem_line = poem1.readline().strip()    \n",
    "poem1.close()"
   ]
  },
  {
   "cell_type": "markdown",
   "metadata": {
    "collapsed": true
   },
   "source": [
    "# &nbsp;\n",
    "<font size=\"6\" color=\"#B24C00\"  face=\"verdana\"> <B>Task 3</B></font>  \n",
    "## `.readline()`  with `.strip()` rainbow colors\n",
    "assumes rainbow.tx has been imported in task 1  \n",
    "- open rainbow.txt as rainbow_file as read-only  \n",
    "- read a color from each line of rainbow_file in a while loop  \n",
    "  - use .strip to remove the whitespace  \n",
    "  - print each color upper case  \n",
    "- close rainbow_file "
   ]
  },
  {
   "cell_type": "code",
   "execution_count": 34,
   "metadata": {},
   "outputs": [
    {
     "name": "stdout",
     "output_type": "stream",
     "text": [
      "RED\n",
      "ORANGE\n",
      "YELLOW\n",
      "GREEN\n",
      "BLUE\n",
      "INDIGO\n",
      "VIOLET\n"
     ]
    }
   ],
   "source": [
    "# [ ] open rainbow.txt as rainbow_text as read-only  \n",
    "rainbow_text = open(\"rainbow.txt\",\"r\")\n",
    "rainbow_colors = rainbow_text.readline().strip()\n",
    "while rainbow_colors:\n",
    "    print(rainbow_colors.upper())\n",
    "    rainbow_colors = rainbow_text.readline().strip()\n",
    "rainbow_text.close()"
   ]
  },
  {
   "cell_type": "markdown",
   "metadata": {
    "collapsed": true
   },
   "source": [
    "# &nbsp;\n",
    "<font size=\"6\" color=\"#00A0B2\"  face=\"verdana\"> <B>Concepts</B></font>  \n",
    "\n",
    "## `.strip()` with arguments\n",
    "[![view video](https://iajupyterprodblobs.blob.core.windows.net/imagecontainer/common/play_video.png)]( http://edxinteractivepage.blob.core.windows.net/edxpages/f7cff1a7-5601-48a1-95a6-fd1fdfabd20e.html?details=[{\"src\":\"http://jupyternootbookwams.streaming.mediaservices.windows.net/98672edd-b2c5-4478-aaec-42154a5b97c8/Unit2_Section4.3d-Strip_Arguments.ism/manifest\",\"type\":\"application/vnd.ms-sstr+xml\"}],[{\"src\":\"http://jupyternootbookwams.streaming.mediaservices.windows.net/98672edd-b2c5-4478-aaec-42154a5b97c8/Unit2_Section4.3d-Strip_Arguments.vtt\",\"srclang\":\"en\",\"kind\":\"subtitles\",\"label\":\"english\"}])\n",
    "### .strip() arguments\n",
    "```python\n",
    "color = rainbow_messy.readline().strip('*\\n*')\n",
    "```\n",
    "**`.strip('*\\n')`** removes leading and trailing **`*`** and **\\n**"
   ]
  },
  {
   "cell_type": "markdown",
   "metadata": {},
   "source": [
    "### &nbsp;\n",
    "<font size=\"6\" color=\"#00A0B2\"  face=\"verdana\"> <B>Examples</B></font>"
   ]
  },
  {
   "cell_type": "code",
   "execution_count": null,
   "metadata": {},
   "outputs": [],
   "source": [
    "# [ ] review and run example: import rainbow_messy.txt\n",
    "!curl https://raw.githubusercontent.com/MicrosoftLearning/intropython/master/rainbow_messy -o rainbow_messy.txt"
   ]
  },
  {
   "cell_type": "code",
   "execution_count": 68,
   "metadata": {},
   "outputs": [],
   "source": [
    "# [ ] review and run example: open file read only\n",
    "rainbow_messy = open('rainbow_messy.txt', 'r')"
   ]
  },
  {
   "cell_type": "code",
   "execution_count": 67,
   "metadata": {},
   "outputs": [
    {
     "name": "stdout",
     "output_type": "stream",
     "text": [
      "**red**\n",
      "\n",
      "**orange**\n",
      "\n",
      "**yellow**\n",
      "\n",
      "**green**\n",
      "\n",
      "**blue**\n",
      "\n",
      "**indigo**\n",
      "\n",
      "**violet**\n",
      "\n"
     ]
    }
   ],
   "source": [
    "# [ ] review and run example: .readline() without .strip()\n",
    "color = rainbow_messy.readline()\n",
    "while color:\n",
    "    print(color)\n",
    "    color = rainbow_messy.readline()"
   ]
  },
  {
   "cell_type": "code",
   "execution_count": 60,
   "metadata": {},
   "outputs": [
    {
     "name": "stdout",
     "output_type": "stream",
     "text": [
      "red\n",
      "orange\n",
      "yellow\n",
      "green\n",
      "blue\n",
      "indigo\n",
      "violet\n"
     ]
    }
   ],
   "source": [
    "# [ ] review and run example: strip \"*\" and newline ('\\n')\n",
    "rainbow_messy = open('rainbow_messy.txt', 'r')\n",
    "color = rainbow_messy.readline().strip('*\\n')\n",
    "while color:\n",
    "    print(color)\n",
    "    color = rainbow_messy.readline().strip('*\\n')\n",
    "rainbow_messy.close()"
   ]
  },
  {
   "cell_type": "markdown",
   "metadata": {
    "collapsed": true
   },
   "source": [
    "# &nbsp;\n",
    "<font size=\"6\" color=\"#B24C00\"  face=\"verdana\"> <B>Task 4</B></font>  \n",
    "## `.strip()` with arguments\n",
    "- run import of cities_messy.txt below at least once this notebook session\n",
    "- run open cities_messy.txt below before each test of the while loop cell\n",
    "- edit while loop to strip the colon ':' , newline and spaces\n",
    "- close cities_messy"
   ]
  },
  {
   "cell_type": "code",
   "execution_count": null,
   "metadata": {},
   "outputs": [],
   "source": [
    "# [ ] import the file\n",
    "!curl https://raw.githubusercontent.com/MicrosoftLearning/intropython/master/cities_messy -o cities_messy.txt"
   ]
  },
  {
   "cell_type": "code",
   "execution_count": 79,
   "metadata": {},
   "outputs": [
    {
     "name": "stdout",
     "output_type": "stream",
     "text": [
      "Beijing\n",
      "Cairo\n",
      "London\n",
      "Nairobi\n",
      "New York City\n",
      "Sydney\n",
      "Tokyo\n"
     ]
    }
   ],
   "source": [
    "# [ ] run to read the file into memory\n",
    "# [ ] Remove leading or trailing colon, newline and space characters\n",
    "cities_messy = open('cities_messy.txt', 'r')\n",
    "line = cities_messy.readline().strip(\" :\\n\")\n",
    "while line:\n",
    "    print(line)\n",
    "    line = cities_messy.readline().strip(\" :\\n\")\n",
    "cities_messy.close()"
   ]
  },
  {
   "cell_type": "markdown",
   "metadata": {},
   "source": [
    "# &nbsp;\n",
    "<font size=\"6\" color=\"#B24C00\"  face=\"verdana\"> <B>Task 5</B></font>  \n",
    "## `.strip()` parentheses from poem2_messy\n",
    "\n",
    "- import https://raw.githubusercontent.com/MicrosoftLearning/intropython/master/poem2_messy as poem2_messy.txt  \n",
    "- open poem2_messy.txt as poem2_messy in read mode  \n",
    "- edit while loop to strip the leading and trailing parentheses & print the poem without blank lines  \n",
    "- close poem2_messy"
   ]
  },
  {
   "cell_type": "code",
   "execution_count": null,
   "metadata": {},
   "outputs": [],
   "source": [
    "# [ ] import https://raw.githubusercontent.com/MicrosoftLearning/intropython/master/poem2_messy as poem2_messy.txt  \n",
    "\n"
   ]
  },
  {
   "cell_type": "code",
   "execution_count": 85,
   "metadata": {},
   "outputs": [
    {
     "name": "stdout",
     "output_type": "stream",
     "text": [
      "while True\n",
      "I loop\n",
      "True\n",
      "loop\n",
      "True\n",
      "loop\n",
      "not True\n",
      "False\n",
      "end\n"
     ]
    }
   ],
   "source": [
    "# [ ] open poem2_messy.txt as poem2_messy in read mode\n",
    "# [ ] edit while loop to strip the leading and trailing parentheses, and newlines\n",
    "# [ ] print the poem \n",
    "poem2_messy = open(\"poem2_messy.txt\",\"r\")\n",
    "line = poem2_messy.readline().strip(\"()\\n\")\n",
    "while line:\n",
    "    print(line)\n",
    "    line = poem2_messy.readline().strip(\"()\\n\")\n",
    "poem2_messy.close()"
   ]
  },
  {
   "cell_type": "markdown",
   "metadata": {
    "collapsed": true
   },
   "source": [
    "[Terms of use](http://go.microsoft.com/fwlink/?LinkID=206977) &nbsp; [Privacy & cookies](https://go.microsoft.com/fwlink/?LinkId=521839) &nbsp; © 2017 Microsoft"
   ]
  }
 ],
 "metadata": {
  "anaconda-cloud": {},
  "kernelspec": {
   "display_name": "Python 3",
   "language": "python",
   "name": "python3"
  },
  "language_info": {
   "codemirror_mode": {
    "name": "ipython",
    "version": 3
   },
   "file_extension": ".py",
   "mimetype": "text/x-python",
   "name": "python",
   "nbconvert_exporter": "python",
   "pygments_lexer": "ipython3",
   "version": "3.6.3"
  }
 },
 "nbformat": 4,
 "nbformat_minor": 1
}
