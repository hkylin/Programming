{
 "cells": [
  {
   "cell_type": "markdown",
   "metadata": {},
   "source": [
    "# User input"
   ]
  },
  {
   "cell_type": "code",
   "execution_count": 1,
   "metadata": {},
   "outputs": [
    {
     "name": "stdout",
     "output_type": "stream",
     "text": [
      "enter a small int: \n",
      "5\n",
      "small int: 5\n"
     ]
    }
   ],
   "source": [
    "# review and run code - enter a small integer in the text box\n",
    "print(\"enter a small int: \")\n",
    "small_int = input()\n",
    "print(\"small int: \" + small_int)"
   ]
  },
  {
   "cell_type": "markdown",
   "metadata": {},
   "source": [
    "# Input prompts"
   ]
  },
  {
   "cell_type": "code",
   "execution_count": 2,
   "metadata": {},
   "outputs": [
    {
     "name": "stdout",
     "output_type": "stream",
     "text": [
      "type a name in the input box and press Enter: Mayur\n",
      "Name is Mayur and type is  <class 'str'>\n"
     ]
    }
   ],
   "source": [
    "#Task 1\n",
    "#storing input in a variable\n",
    "\n",
    "#    [ ] create code to store input in student_name variable\n",
    "#an input box should show when run \"type a name in the input box and press Enter\"\n",
    "student_name = input(\"type a name in the input box and press Enter: \")\n",
    "\n",
    "#determine the type() of student_name\n",
    "print(\"Name is \" + student_name + \" and type is  \" + str(type(student_name)))\n"
   ]
  },
  {
   "cell_type": "code",
   "execution_count": 3,
   "metadata": {},
   "outputs": [
    {
     "name": "stdout",
     "output_type": "stream",
     "text": [
      "Please enter Name:Mayur\n",
      "Please enter Age:35\n",
      "Do you want to be on email lisy Yes/No:Yes\n",
      "Name is : Mayur \n",
      "Age is : 35 \n",
      "Email choise is: Yes\n"
     ]
    }
   ],
   "source": [
    "#multiple prompts for user input\n",
    "#often programs need information on multiple items\n",
    "#    [ ] create variables to store input: name, age, get_mail\n",
    "#    [ ] create prompts for name, age and yes/no to being on an email list\n",
    "#    [ ] print description + input values\n",
    "# example print output:\n",
    "# name = Alton\n",
    "# age = 17\n",
    "# wants email = yes\n",
    "\n",
    "name = input(\"Please enter Name:\")\n",
    "age = input(\"Please enter Age:\")\n",
    "get_email = input(\"Do you want to be on email lisy Yes/No:\")\n",
    "\n",
    "print(\"Name is : \" + name, \"\\n\" + \"Age is : \" + age, \"\\n\" + \"Email choise is: \" + get_email)"
   ]
  },
  {
   "cell_type": "markdown",
   "metadata": {},
   "source": [
    "# Print formatting"
   ]
  },
  {
   "cell_type": "code",
   "execution_count": 6,
   "metadata": {},
   "outputs": [
    {
     "name": "stdout",
     "output_type": "stream",
     "text": [
      "Mayur Suraj Vamshi\n",
      "Mayur 5 Vamshi\n",
      "Mayur Age 35 Vamshi Age 25\n"
     ]
    }
   ],
   "source": [
    "#Task 1\n",
    "#print 3 strings on the same line using commas inside the print() function\n",
    "print(\"Mayur\",\"Suraj\",\"Vamshi\")\n",
    "\n",
    "#using commas in print() with strings and numbers together\n",
    "print(\"Mayur\",5,\"Vamshi\")\n",
    "\n",
    "#Task 2\n",
    "#use a print() function with comma separation to combine 2 numbers and 2 strings\n",
    "print(\"Mayur\", \"Age\", 35,\"Vamshi\",\"Age\",25)"
   ]
  },
  {
   "cell_type": "code",
   "execution_count": 8,
   "metadata": {},
   "outputs": [
    {
     "name": "stdout",
     "output_type": "stream",
     "text": [
      "Street Name: abc\n",
      "Street Number: 123\n",
      "abc 123\n"
     ]
    }
   ],
   "source": [
    "#Task 3\n",
    "#print() comma separated mixing of strings and variables\n",
    "#display text describing an address, made from stings and variables of different types\n",
    "#    initialize variables with input()\n",
    "#      street\n",
    "#      st_number\n",
    "# Display a message about the street and street number using comma separation formatting\n",
    "\n",
    "# [ ] get user input for a street name in the variable, street\n",
    "street = input(\"Street Name: \")\n",
    "# [ ] get user input for a street number in the variable, st_number\n",
    "st_number = input(\"Street Number: \")\n",
    "# [ ] display a message about the street and st_number\n",
    "print(street,st_number)\n",
    "\n",
    "\n"
   ]
  },
  {
   "cell_type": "code",
   "execution_count": 13,
   "metadata": {},
   "outputs": [
    {
     "name": "stdout",
     "output_type": "stream",
     "text": [
      "enter name for contact person for training group:Mayur\n",
      "enter the total number attending the course:10\n",
      "enter the training time selected:3.36\n",
      "Reminder: training is schedule at 3.36 for the Mayur group of 10 attendees\n",
      " Please arrive 15 minutes early for the first class\n"
     ]
    }
   ],
   "source": [
    "#Task 4\n",
    "#Program: How many for the training?\n",
    "#Create a program that prints out a reservation for a training class.\n",
    "#Gather the name of the party, the number of people attending and the time.\n",
    "#    example of what input/output might look like:\n",
    "#enter name for contact person for training group: Hiroto Yamaguchi  \n",
    "#enter the total number attending the course: 7  \n",
    "#enter the training time selected: 3:25 PM  \n",
    "\n",
    "#Output\n",
    "#Reminder: training is schedule at 3:25 PM for the Hiroto Yamaguchi group of 7 attendees  \n",
    "#Please arrive 10 minutes early for the first class  \n",
    "\n",
    "# [ ] get input for variables: owner, num_people, training_time  - use descriptive prompt text\n",
    "owner = input(\"enter name for contact person for training group:\")\n",
    "num_people = input(\"enter the total number attending the course:\")\n",
    "training_time = input(\"enter the training time selected:\")\n",
    "\n",
    "# [ ] create a integer variable min_early and \"hard code\" the integer value (e.g. - 5, 10 or 15)\n",
    "\n",
    "min_early = 15\n",
    "\n",
    "# [ ] print reminder text using all variables & add additional strings -  use comma separated print formatting\n",
    "\n",
    "print(\"Reminder: training is schedule at\",training_time,\"for the\",owner,\"group of\",num_people,\"attendees\\n Please arrive\",min_early,\"minutes early for the first class\")\n",
    "\n"
   ]
  },
  {
   "cell_type": "code",
   "execution_count": 14,
   "metadata": {},
   "outputs": [
    {
     "name": "stdout",
     "output_type": "stream",
     "text": [
      "It's time to save your code\n",
      "I said to the class \"sometimes you need to shut down and restart a notebook when cells refuse to run\"\n"
     ]
    }
   ],
   "source": [
    "#Representing quotes inside of quoted strings\n",
    "print(\"It's time to save your code\")\n",
    "print('I said to the class \"sometimes you need to shut down and restart a notebook when cells refuse to run\"')"
   ]
  }
 ],
 "metadata": {
  "kernelspec": {
   "display_name": "Python 3",
   "language": "python",
   "name": "python3"
  },
  "language_info": {
   "codemirror_mode": {
    "name": "ipython",
    "version": 3
   },
   "file_extension": ".py",
   "mimetype": "text/x-python",
   "name": "python",
   "nbconvert_exporter": "python",
   "pygments_lexer": "ipython3",
   "version": "3.6.3"
  }
 },
 "nbformat": 4,
 "nbformat_minor": 2
}
