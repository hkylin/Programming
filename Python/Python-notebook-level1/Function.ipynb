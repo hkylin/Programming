{
 "cells": [
  {
   "cell_type": "markdown",
   "metadata": {},
   "source": [
    "# Functions"
   ]
  },
  {
   "cell_type": "markdown",
   "metadata": {},
   "source": [
    "## Function with Arguments\n",
    "Python allows us to create User Defined Functions and provides many Built-in Functions such as print()\n",
    "- print() can be called using arguments (or without) and sends text to standard output, such as the console.\n",
    "- print() uses Parameters to define the variable Arguments that can be passed to the Function.\n",
    "- print() defines multiple string/numbers parameters which means we can send a long list of Arguments to print(), separated by commas.\n",
    "- print() can also be called directly with just its name and empty parenthesis and it will return a blank line to standard output\n"
   ]
  },
  {
   "cell_type": "code",
   "execution_count": 2,
   "metadata": {},
   "outputs": [
    {
     "name": "stdout",
     "output_type": "stream",
     "text": [
      "Hello World! I am sending string arguments to print \n",
      "Hiroto Yamaguchi will be in the class for 17 year old students.\n",
      "line 1\n",
      "line 2\n",
      "\n",
      "line 4\n"
     ]
    }
   ],
   "source": [
    "#Example\n",
    "\n",
    "print('Hello World!', 'I am sending string arguments to print ')\n",
    "\n",
    "student_age = 17\n",
    "student_name = \"Hiroto Yamaguchi\"\n",
    "print(student_name,'will be in the class for',student_age, 'year old students.')\n",
    "\n",
    "print(\"line 1\")\n",
    "print(\"line 2\")\n",
    "print() # line 3 is an empty return - the default when no arguments\n",
    "print(\"line 4\")"
   ]
  },
  {
   "cell_type": "code",
   "execution_count": 8,
   "metadata": {},
   "outputs": [
    {
     "name": "stdout",
     "output_type": "stream",
     "text": [
      "Hiroto Yamaguchi will be in the class for 17 year old students. \n",
      "Hiroto Yamaguchi like subjects \"english, maths, science, geography, history\"\n",
      "Hiroto Yamaguchi's birth date is 7/4/1990\n"
     ]
    }
   ],
   "source": [
    "# TASK 1\n",
    "#Passing Arguments to print()\n",
    "#Many Arguments can be passed to print\n",
    "#update the print statement to use print() with 8 or more arguments\n",
    "#[ ] increase the number of arguments used in print() to 8 or more \n",
    "student_age = 17\n",
    "student_name = \"Hiroto Yamaguchi\"\n",
    "subjects = \"english, maths, science, geography, history\"\n",
    "dob = \"7/4/1990\"\n",
    "\n",
    "print(student_name,'will be in the class for',student_age, 'year old students.','\\n'+student_name,'like subjects','\"'+subjects+'\"'+'\\n'+student_name+'\\'s','birth date is',dob)\n",
    "#print('one','two','three','four','five','six','seven','eight','nine','ten')\n",
    "\n"
   ]
  },
  {
   "cell_type": "markdown",
   "metadata": {},
   "source": [
    "## Simple Function\n",
    "\n",
    "basics of a user defined function\n",
    "\n",
    "-    define a function with def\n",
    "-    use indentation (4 spaces)\n",
    "-    define parameters\n",
    "-    optional parameters\n",
    "-    return values (or none)\n",
    "-    function scope (basics defaults)\n",
    "\n",
    "``` python \n",
    "def some_function():\n",
    "```\n",
    "\n",
    "use the def statement when creating a function\n",
    "\n",
    "-    use a function name that starts with a letter or underscore (usually a lower-case letter)\n",
    "-    function names can contain letters, numbers or underscores\n",
    "-    parenthesis () follow the function name\n",
    "-    a colon : follows the parenthesis\n",
    "-    the code for the function is indented under the function definition (use 4 spaces for this course)\n",
    "\n",
    "```python\n",
    "def some_function():\n",
    "   #code the function tasks indented here    \n",
    "```\n",
    "The end of the function is denoted by returning to no indentation\n",
    "\n",
    "## Calling a function by name\n",
    "\n",
    "Call a simple function using the function name followed by parentheses. For instance, calling print is\n",
    "`print()`"
   ]
  },
  {
   "cell_type": "code",
   "execution_count": 59,
   "metadata": {},
   "outputs": [],
   "source": [
    "#Example\n",
    "# defines a function named say_hi\n",
    "def say_hi():\n",
    "    print(\"Hello there!\")\n",
    "    print(\"goodbye\")\n",
    "\n",
    "# define three_three \n",
    "def three_three():\n",
    "    print(33) \n"
   ]
  },
  {
   "cell_type": "code",
   "execution_count": 14,
   "metadata": {},
   "outputs": [
    {
     "name": "stdout",
     "output_type": "stream",
     "text": [
      "Hello there!\n",
      "goodbye\n",
      "33\n"
     ]
    }
   ],
   "source": [
    "say_hi()\n",
    "three_three()"
   ]
  },
  {
   "cell_type": "code",
   "execution_count": 16,
   "metadata": {},
   "outputs": [
    {
     "name": "stdout",
     "output_type": "stream",
     "text": [
      "OH MY GOD!\n"
     ]
    }
   ],
   "source": [
    "# TASK 2 \n",
    "# Define and call a simple function   yell_it()\n",
    "# yell_it()   prints the phrase with \"!\" concatenated to the end\n",
    "# takes no arguments\n",
    "# indented function code does the following\n",
    "# define a variable called 'phrase' and initialize with a short phrase\n",
    "# prints 'phrase' as all upper-case letters followed by \"!\"\n",
    "# call   yell_it   at the bottom of the cell after the function  def (Tip: no indentation should be used)\n",
    "\n",
    "def yell_it():\n",
    "    phrase = \"oh my god\"\n",
    "    print(phrase.upper()+\"!\")\n",
    "yell_it()"
   ]
  },
  {
   "cell_type": "markdown",
   "metadata": {},
   "source": [
    "## Function with Parameters"
   ]
  },
  {
   "cell_type": "code",
   "execution_count": 23,
   "metadata": {},
   "outputs": [
    {
     "name": "stdout",
     "output_type": "stream",
     "text": [
      "OH MY GOD!\n",
      "TAKE MY HAND!\n"
     ]
    }
   ],
   "source": [
    "def yell_it(phrase = \"oh my god\"): \n",
    "    print(phrase.upper()+\"!\")\n",
    "yell_it()\n",
    "yell_it(\"Take my hand\")"
   ]
  },
  {
   "cell_type": "code",
   "execution_count": 24,
   "metadata": {},
   "outputs": [
    {
     "name": "stdout",
     "output_type": "stream",
     "text": [
      "what the hell\n",
      "WHAT THE HELL!\n"
     ]
    }
   ],
   "source": [
    "def yell_it(phrase = input()): \n",
    "    print(phrase.upper()+\"!\")\n",
    "yell_it()"
   ]
  },
  {
   "cell_type": "markdown",
   "metadata": {},
   "source": [
    "### TASK 3\n",
    "Define yell_this() and call with variable argument\n",
    "- define variable   `words_to_yell`   as a string gathered from user  `input()`\n",
    "- Call  `yell_this()`  with   `words_to_yell`  as argument\n",
    "- get user `input()` for the string `words_to_yell`\n",
    "\n"
   ]
  },
  {
   "cell_type": "code",
   "execution_count": 34,
   "metadata": {},
   "outputs": [
    {
     "name": "stdout",
     "output_type": "stream",
     "text": [
      "word to yell: hello\n",
      "hello!\n"
     ]
    }
   ],
   "source": [
    "# [ ] define yell_this() \n",
    "def yell_this():\n",
    "    print()\n",
    "# [ ] get user input in variable words_to_yell\n",
    "words_to_yell = input(\"word to yell: \")\n",
    "def yell_this(words_to_yell_f):\n",
    "    print(words_to_yell_f+'!')\n",
    "# [ ] call yell_this function with words_to_yell as argument\n",
    "yell_this(words_to_yell)"
   ]
  },
  {
   "cell_type": "code",
   "execution_count": 45,
   "metadata": {},
   "outputs": [
    {
     "name": "stdout",
     "output_type": "stream",
     "text": [
      "20\n"
     ]
    }
   ],
   "source": [
    "def add_num(num_1 = 10):\n",
    "    print(num_1 + num_1)\n",
    "add_num()"
   ]
  },
  {
   "cell_type": "markdown",
   "metadata": {},
   "source": [
    "## Call function with return\n",
    "\n",
    "Calling a function with a return value\n",
    "\n",
    "-    type() returns an object type\n",
    "-    type() can be called with a float the return value can be stored in a variable\n",
    "\n",
    "`object_type = type(2.33)`\n",
    "\n",
    "creating a function with a return value\n",
    "\n",
    "-    return keyword in a function returns a value after exiting the function\n",
    "\n",
    "``` python\n",
    "def msg_double(phrase):\n",
    "      double = phrase + \" \" + phrase\n",
    "      return double\n",
    "```"
   ]
  },
  {
   "cell_type": "markdown",
   "metadata": {},
   "source": [
    "### TASK 1\n",
    "Doctor: a function that adds the `\"Doctor\"` title to a name\n",
    "\n",
    "-    Define function `make_doctor()`  that takes a parameter `name`\n",
    "-    get user `input` for variable `full_name`\n",
    "-    call the function using `full_name`   as argument\n",
    "-    print the `return` value\n",
    "\n",
    " create and call `make_doctor()` with `full_name` argument from user `input` - then print the `return` value\n"
   ]
  },
  {
   "cell_type": "code",
   "execution_count": 57,
   "metadata": {},
   "outputs": [
    {
     "name": "stdout",
     "output_type": "stream",
     "text": [
      "Enter full name: mayur sharma\n",
      "Doctor Mayur Sharma\n"
     ]
    }
   ],
   "source": [
    "def make_doctor(name):\n",
    "    return \"Doctor \"+name.title() ## take name and format it as title\n",
    "full_name = input(\"Enter full name: \")\n",
    "val = make_doctor(full_name)\n",
    "print(val)"
   ]
  },
  {
   "cell_type": "code",
   "execution_count": 58,
   "metadata": {},
   "outputs": [
    {
     "name": "stdout",
     "output_type": "stream",
     "text": [
      "Enter full name: mayur sharma\n",
      "Doctor Mayur Sharma\n"
     ]
    }
   ],
   "source": [
    "## this also work\n",
    "def make_doctor(name = input(\"Enter full name: \")):\n",
    "    return \"Doctor \"+name.title() ## take name and format it as title\n",
    "print(make_doctor()) "
   ]
  },
  {
   "cell_type": "markdown",
   "metadata": {},
   "source": [
    "## Multi-Parameter Functions"
   ]
  },
  {
   "cell_type": "markdown",
   "metadata": {},
   "source": [
    "### Example\n",
    "\n",
    "review and run the code\n",
    "``` python\n",
    "def make_schedule(period1, period2):\n",
    "    schedule = (\"[1st] \" + period1.title() + \", [2nd] \" + period2.title())\n",
    "    return schedule\n",
    "\n",
    "student_schedule = make_schedule(\"mathematics\", \"history\")\n",
    "print(\"SCHEDULE:\", student_schedule)\n",
    "```\n",
    "### Task 2\n",
    "Define `make_schedule()` adding a 3rd period to\n",
    "\n",
    "-    Start with the above example code\n",
    "-    add a parameter `period_3`\n",
    "-    update function code to add `period_3` to the `schedule`\n",
    "-    call `student_schedule()` with an additional argument such as `'science'`\n",
    "-    print the `schedule`"
   ]
  },
  {
   "cell_type": "code",
   "execution_count": 89,
   "metadata": {},
   "outputs": [
    {
     "name": "stdout",
     "output_type": "stream",
     "text": [
      "CLASS 1 SCHEDULE: \"[1st] Mathematics, [2nd] History, [3rd] Science\"\n",
      "CLASS 2 SCHEDULE: \"[1st] Mathematics, [2nd] History, [3rd] Science\"\n",
      "CLASS 3 SCHEDULE: \"[1st] Mathematics, [2nd] History, [3rd] Science\"\n",
      "CLASS 4 SCHEDULE: \"[1st] Mathematics, [2nd] History, [3rd] Science\"\n",
      "CLASS 5 SCHEDULE: \"[1st] Mathematics, [2nd] History, [3rd] Science\"\n",
      "CLASS 6 SCHEDULE: \"[1st] Mathematics, [2nd] History, [3rd] Science\"\n"
     ]
    }
   ],
   "source": [
    "# [ ] add a 3rd period parameter to make_schedule\n",
    "def make_schedule(period1, period2, period_3):\n",
    "    schedule = (\"[1st] \" + period1.title() + \", [2nd] \" + period2.title() + \", [3rd] \" + period_3.title())\n",
    "    return schedule\n",
    "\n",
    "student_schedule = make_schedule(\"mathematics\", \"history\",\"science\")\n",
    "#print(\"SCHEDULE:\", student_schedule)\n",
    "\n",
    "# [ ] Optional - print a schedule for 6 classes (Tip: perhaps let the function make this easy)\n",
    "def classes_schedule(classnum, student_schedule):\n",
    "    classes = (\"CLASS \" + classnum + \" SCHEDULE: \" + \"\\\"\" + student_schedule + \"\\\"\")\n",
    "    return classes\n",
    "\n",
    "for i in range(1,7):\n",
    "    print(classes_schedule(str(i),student_schedule))\n"
   ]
  },
  {
   "cell_type": "code",
   "execution_count": 91,
   "metadata": {},
   "outputs": [
    {
     "name": "stdout",
     "output_type": "stream",
     "text": [
      "200\n"
     ]
    }
   ],
   "source": [
    "def add_num(num_1 = 10):\n",
    "    return num_1 + num_1\n",
    "print(add_num(100))"
   ]
  },
  {
   "cell_type": "code",
   "execution_count": 92,
   "metadata": {},
   "outputs": [
    {
     "name": "stdout",
     "output_type": "stream",
     "text": [
      "110\n"
     ]
    }
   ],
   "source": [
    "def add_numbers(num_1, num_2 = 10):\n",
    "    return num_1 + num_2\n",
    "print(add_numbers(100))"
   ]
  },
  {
   "cell_type": "code",
   "execution_count": 1,
   "metadata": {},
   "outputs": [
    {
     "name": "stdout",
     "output_type": "stream",
     "text": [
      "return this lower\n"
     ]
    }
   ],
   "source": [
    "def low_case(words_in): \n",
    "      return words_in.lower()  \n",
    "\n",
    "words_lower = low_case(\"Return THIS lower\")\n",
    "print(words_lower) "
   ]
  },
  {
   "cell_type": "code",
   "execution_count": 3,
   "metadata": {},
   "outputs": [
    {
     "name": "stdout",
     "output_type": "stream",
     "text": [
      "enter how many you want: 5\n",
      "5 will be ordered\n"
     ]
    }
   ],
   "source": [
    "# define function how_many\n",
    "def how_many():\n",
    "    requested = input(\"enter how many you want: \")\n",
    "    return requested\n",
    "\n",
    "# get the number_needed\n",
    "number_needed = how_many()\n",
    "print(number_needed, \"will be ordered\")\n"
   ]
  },
  {
   "cell_type": "markdown",
   "metadata": {},
   "source": [
    "### Program: fishstore()\n",
    "\n",
    "create and test `fishstore()`\n",
    "\n",
    "-    `fishstore()` takes 2 string arguments: `fish` & `price`\n",
    "-    `fishstore` returns a string in sentence form\n",
    "-    gather `input` for `fish_entry` and `price_entry` to use in calling `fishstore()`\n",
    "-    print the return value of `fishstore()`\n",
    "\n",
    "*example of output:*\n",
    "    `Fish Type: Guppy costs $1`"
   ]
  },
  {
   "cell_type": "code",
   "execution_count": 3,
   "metadata": {},
   "outputs": [
    {
     "name": "stdout",
     "output_type": "stream",
     "text": [
      "Enter fish typebangda\n",
      "Enter price50\n",
      "Fish Type: bangda costs $50\n"
     ]
    }
   ],
   "source": [
    "# [ ] create, call and test fishstore() function \n",
    "def fishstore(fish=\"\",price=\"\"):\n",
    "    fish_entry = input(\"Enter fish type\")\n",
    "    price_entry = input(\"Enter price\")\n",
    "    return \"Fish Type: \"+fish_entry +\" costs $\"+price_entry\n",
    "print(fishstore())\n",
    "\n",
    "# then PASTE THIS CODE into edX"
   ]
  },
  {
   "cell_type": "code",
   "execution_count": null,
   "metadata": {},
   "outputs": [],
   "source": []
  }
 ],
 "metadata": {
  "kernelspec": {
   "display_name": "Python 3",
   "language": "python",
   "name": "python3"
  },
  "language_info": {
   "codemirror_mode": {
    "name": "ipython",
    "version": 3
   },
   "file_extension": ".py",
   "mimetype": "text/x-python",
   "name": "python",
   "nbconvert_exporter": "python",
   "pygments_lexer": "ipython3",
   "version": "3.6.3"
  }
 },
 "nbformat": 4,
 "nbformat_minor": 2
}
