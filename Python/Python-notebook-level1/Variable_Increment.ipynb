{
 "cells": [
  {
   "cell_type": "markdown",
   "metadata": {},
   "source": [
    "# Variable Increment\n",
    "\n",
    "**Incrementing a variable**\n",
    "\n",
    "- Incrementing\n",
    "    `votes = votes + 1`     or   `votes += 1`\n",
    "- Decrementing (negative incrementing)\n",
    "    `votes = votes - 1`     or   `votes -= 1`\n",
    "    \n",
    "### Example"
   ]
  },
  {
   "cell_type": "code",
   "execution_count": 1,
   "metadata": {},
   "outputs": [
    {
     "name": "stdout",
     "output_type": "stream",
     "text": [
      "3\n"
     ]
    }
   ],
   "source": [
    "# [ ] review and run example\n",
    "votes = 3\n",
    "print(votes)"
   ]
  },
  {
   "cell_type": "code",
   "execution_count": 2,
   "metadata": {},
   "outputs": [
    {
     "name": "stdout",
     "output_type": "stream",
     "text": [
      "4\n"
     ]
    }
   ],
   "source": [
    "votes = votes + 1\n",
    "print(votes)"
   ]
  },
  {
   "cell_type": "code",
   "execution_count": 3,
   "metadata": {},
   "outputs": [
    {
     "name": "stdout",
     "output_type": "stream",
     "text": [
      "6\n"
     ]
    }
   ],
   "source": [
    "votes += 2\n",
    "print(votes)"
   ]
  },
  {
   "cell_type": "code",
   "execution_count": 4,
   "metadata": {},
   "outputs": [
    {
     "name": "stdout",
     "output_type": "stream",
     "text": [
      "5\n"
     ]
    }
   ],
   "source": [
    "votes -= 1\n",
    "print(votes)"
   ]
  },
  {
   "cell_type": "code",
   "execution_count": 5,
   "metadata": {},
   "outputs": [
    {
     "name": "stdout",
     "output_type": "stream",
     "text": [
      "seat count: 0\n",
      "seat count: 1\n",
      "seat count: 2\n",
      "seat count: 3\n",
      "seat count: 4\n"
     ]
    }
   ],
   "source": [
    "# [ ] review the SEAT COUNT code then run \n",
    "seat_count = 0\n",
    "while True:\n",
    "    print(\"seat count:\",seat_count)\n",
    "    seat_count = seat_count + 1\n",
    "\n",
    "    if seat_count > 4:\n",
    "        break"
   ]
  },
  {
   "cell_type": "code",
   "execution_count": 7,
   "metadata": {},
   "outputs": [
    {
     "name": "stdout",
     "output_type": "stream",
     "text": [
      "enter seat type of \"hard\",\"soft\" or \"exit\" (to finish): hard\n",
      "enter seat type of \"hard\",\"soft\" or \"exit\" (to finish): soft\n",
      "enter seat type of \"hard\",\"soft\" or \"exit\" (to finish): exit\n",
      "\n",
      "2 Seats Total:  1 hard and 1 soft\n"
     ]
    }
   ],
   "source": [
    "# [ ] review the SEAT TYPE COUNT code then run entering: hard, soft, medium and exit\n",
    "\n",
    "# initialize variables\n",
    "seat_count = 0\n",
    "soft_seats = 0\n",
    "hard_seats = 0\n",
    "num_seats = 4\n",
    "\n",
    "\n",
    "# loops tallying seats using soft pads vs hard, until seats full or user \"exits\"\n",
    "while True:\n",
    "    seat_type = input('enter seat type of \"hard\",\"soft\" or \"exit\" (to finish): ')\n",
    "    \n",
    "    if seat_type.lower().startswith(\"e\"):\n",
    "        print()\n",
    "        break\n",
    "    elif seat_type.lower() == \"hard\":\n",
    "        hard_seats += 1\n",
    "    elif seat_type.lower() == \"soft\":\n",
    "        soft_seats += 1\n",
    "    else:\n",
    "        print(\"invalid entry: counted as hard\")\n",
    "        hard_seats += 1  \n",
    "    seat_count += 1\n",
    "    if seat_count >= num_seats:\n",
    "        print(\"\\nseats are full\")\n",
    "        break\n",
    "        \n",
    "print(seat_count,\"Seats Total: \",hard_seats,\"hard and\",soft_seats,\"soft\" )"
   ]
  },
  {
   "cell_type": "markdown",
   "metadata": {},
   "source": [
    "### Task 1\n",
    "\n",
    "#### Program: Shirt Count\n",
    "\n",
    "**incrementing in a while() loop\n",
    "Program: Shirt Count\n",
    "\n",
    "-    enter a sizes `(S, M, L)`\n",
    "-    tally the `count` of each size\n",
    "-    input `\"exit\"` when finished\n",
    "-    report out the `purchase` of `each shirt size`\n"
   ]
  },
  {
   "cell_type": "code",
   "execution_count": 14,
   "metadata": {},
   "outputs": [
    {
     "name": "stdout",
     "output_type": "stream",
     "text": [
      "Enter the shirt size (S,M,L) or Exit to finish s\n",
      "Enter the shirt size (S,M,L) or Exit to finish s\n",
      "Enter the shirt size (S,M,L) or Exit to finish s\n",
      "Enter the shirt size (S,M,L) or Exit to finish m\n",
      "Enter the shirt size (S,M,L) or Exit to finish exit\n",
      "4 Shirts Total:  3 small , 1 medium and 0 large\n"
     ]
    }
   ],
   "source": [
    "small = 0\n",
    "medium = 0\n",
    "large = 0\n",
    "total_shirt = 0\n",
    "\n",
    "while True:\n",
    "    size = input(\"Enter the shirt size (S,M,L) or Exit to finish \")\n",
    "    if size.lower() == \"exit\":\n",
    "        break\n",
    "    elif size.lower() == \"s\":\n",
    "        small += 1\n",
    "    elif size.lower() == \"m\":\n",
    "        medium += 1\n",
    "    elif size.lower() == \"l\":\n",
    "        large += 1\n",
    "    else:\n",
    "        print(\"invalid entry not counted\")\n",
    "    total_shirt = small + medium + large\n",
    "    \n",
    "print(total_shirt,\"Shirts Total: \",small,\"small ,\",medium,\"medium and\",large,\"large\")"
   ]
  },
  {
   "cell_type": "markdown",
   "metadata": {},
   "source": [
    "#### CHALLENGE: Shirt Register (optional)\n",
    "\n",
    "Update the Shirt Count program to calculate cost\n",
    "\n",
    "-    use shirt cost `(S = 6, M = 7, L = 8)`\n",
    "-    to calculate and report the subtotal cost for each size\n",
    "-    to calculate and report the total cost of all shirts"
   ]
  },
  {
   "cell_type": "code",
   "execution_count": 25,
   "metadata": {},
   "outputs": [
    {
     "name": "stdout",
     "output_type": "stream",
     "text": [
      "Enter the shirt size (S,M,L) or Exit to finish s\n",
      "Enter the shirt size (S,M,L) or Exit to finish m\n",
      "Enter the shirt size (S,M,L) or Exit to finish l\n",
      "Enter the shirt size (S,M,L) or Exit to finish exit\n",
      "------------------------\n",
      "Size\tQty\tCost\n",
      "------------------------\n",
      "Small\t1\t$6\n",
      "Medium\t1\t$7\n",
      "Large\t1\t$8\n",
      "========================\n",
      "Total:\t3\t21\n"
     ]
    }
   ],
   "source": [
    "# [ ] Create the Shirt Register program, run tests\n",
    "\n",
    "small = 0\n",
    "small_cost = 0\n",
    "medium = 0\n",
    "medium_cost = 0\n",
    "large = 0\n",
    "large_cost = 0\n",
    "total_shirt = 0\n",
    "total_shirt_cost = 0\n",
    "\n",
    "\n",
    "while True:\n",
    "    size = input(\"Enter the shirt size (S,M,L) or Exit to finish \")\n",
    "    if size.lower() == \"exit\":\n",
    "        break\n",
    "    elif size.lower() == \"s\":\n",
    "        small += 1\n",
    "        small_cost += 6\n",
    "    elif size.lower() == \"m\":\n",
    "        medium += 1\n",
    "        medium_cost += 7\n",
    "    elif size.lower() == \"l\":\n",
    "        large += 1\n",
    "        large_cost += 8\n",
    "    else:\n",
    "        print(\"invalid entry not counted\")\n",
    "    total_shirt = small + medium + large\n",
    "    total_shirt_cost = small_cost + medium_cost + large_cost\n",
    "    \n",
    "print(\"------------------------\\n\" +\n",
    "      \"Size\\tQty\\tCost\\n\" +\n",
    "      \"------------------------\\n\" +\n",
    "      \"Small\\t\" + str(small) + \"\\t$\" + str(small_cost) + \"\\n\" + \n",
    "      \"Medium\\t\" + str(medium) + \"\\t$\" + str(medium_cost) + \"\\n\" + \n",
    "      \"Large\\t\" + str(large) + \"\\t$\" + str(large_cost) + \"\\n\" +\n",
    "      \"========================\\n\"\n",
    "      \"Total:\\t\" + str(total_shirt) + \n",
    "      \"\\t\" + str(total_shirt_cost))"
   ]
  },
  {
   "cell_type": "code",
   "execution_count": 28,
   "metadata": {},
   "outputs": [
    {
     "name": "stdout",
     "output_type": "stream",
     "text": [
      "time is 3\n",
      "time is 4\n"
     ]
    }
   ],
   "source": [
    " time = 3\n",
    "\n",
    "while True:\n",
    "    print('time is', time)\n",
    "    if time == 3:\n",
    "        time = 4\n",
    "    else:\n",
    "        break"
   ]
  },
  {
   "cell_type": "code",
   "execution_count": null,
   "metadata": {},
   "outputs": [],
   "source": []
  }
 ],
 "metadata": {
  "kernelspec": {
   "display_name": "Python 3",
   "language": "python",
   "name": "python3"
  },
  "language_info": {
   "codemirror_mode": {
    "name": "ipython",
    "version": 3
   },
   "file_extension": ".py",
   "mimetype": "text/x-python",
   "name": "python",
   "nbconvert_exporter": "python",
   "pygments_lexer": "ipython3",
   "version": "3.6.3"
  }
 },
 "nbformat": 4,
 "nbformat_minor": 2
}
