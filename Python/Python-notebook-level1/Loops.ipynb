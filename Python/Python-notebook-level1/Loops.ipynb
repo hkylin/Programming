{
 "cells": [
  {
   "cell_type": "markdown",
   "metadata": {},
   "source": [
    "# loops\n",
    "\n",
    "`while True`: is known as the forever loop because it ...loops forever\n",
    "\n",
    "Using the `while True`: statement results in a loop that continues to run forever\n",
    "...or, until the loop is interrupted, such as with a `break` statement\n",
    "\n",
    "`break` in a while loop, causes code flow to `exit` the loop\n",
    "\n",
    "a `conditional` can implement `break` to exit a while True loop\n",
    "\n",
    "### Example"
   ]
  },
  {
   "cell_type": "code",
   "execution_count": null,
   "metadata": {},
   "outputs": [],
   "source": [
    "# Review and run code\n",
    "# this example never loops because the break has no conditions\n",
    "while True:\n",
    "    print('write forever, unless there is a \"break\"')\n",
    "    break"
   ]
  },
  {
   "cell_type": "code",
   "execution_count": null,
   "metadata": {},
   "outputs": [],
   "source": [
    "# [ ] review the NUMBER GUESS code then run - Q. what cause the break statement to run?\n",
    "number_guess = \"0\"\n",
    "secret_number = \"5\"\n",
    "\n",
    "while True:\n",
    "    number_guess = input(\"guess the number 1 to 5: \")\n",
    "    if number_guess == secret_number:\n",
    "        print(\"Yes\", number_guess,\"is correct!\\n\")\n",
    "        break\n",
    "    else:\n",
    "        print(number_guess,\"is incorrect\\n\")"
   ]
  },
  {
   "cell_type": "code",
   "execution_count": null,
   "metadata": {},
   "outputs": [],
   "source": [
    "# [ ] review WHAT TO WEAR code then run testing different inputs\n",
    "while True:\n",
    "    weather = input(\"Enter weather (sunny, rainy, snowy, or quit): \") \n",
    "    print()\n",
    "\n",
    "    if weather.lower() == \"sunny\":\n",
    "        print(\"Wear a t-shirt and sunscreen\")\n",
    "        break\n",
    "    elif weather.lower() == \"rainy\":\n",
    "        print(\"Bring an umbrella and boots\")\n",
    "        break\n",
    "    elif weather.lower() == \"snowy\":\n",
    "        print(\"Wear a warm coat and hat\")\n",
    "        break\n",
    "    elif weather.lower().startswith(\"q\"):\n",
    "        print('\"quit\" detected, exiting')\n",
    "        break\n",
    "    else:\n",
    "        print(\"Sorry, not sure what to suggest for\", weather +\"\\n\")"
   ]
  },
  {
   "cell_type": "markdown",
   "metadata": {},
   "source": [
    "### Task 1\n",
    "`while True`\n",
    "\n",
    "**Program: Get a name forever ...or until done**\n",
    "\n",
    "-    create variable, `familar_name`, and assign it an empty string (`\"\"`)\n",
    "-    use `while True:`\n",
    "-    ask for user input for `familar_name` (common name friends/family use)\n",
    "-    keep asking until given a `non-blank/non-space alphabetical name` is received (Hint: Boolean string test)\n",
    "-    break loop and print a greeting using `familar_name`"
   ]
  },
  {
   "cell_type": "code",
   "execution_count": null,
   "metadata": {},
   "outputs": [],
   "source": [
    "familar_name = \"\"\n",
    "while True:\n",
    "    familar_name = input(\"Please enter familar name/common name friends/family use: \")\n",
    "    if familar_name.isalpha():\n",
    "        print(\"Greetings!\",familar_name.title())\n",
    "        break\n",
    "    else:\n",
    "        pass\n",
    "    "
   ]
  },
  {
   "cell_type": "markdown",
   "metadata": {},
   "source": [
    "# while loop with Boolean comparisons\n",
    "\n",
    "- while while with Boolean comparison operator\n",
    "`while x < 5:`\n",
    "\n",
    "- with increment we used `break` when count becomes greater than some number\n",
    "\n",
    "- The same result can be achieved by using `while x < 5:`\n",
    "\n",
    "### Example"
   ]
  },
  {
   "cell_type": "code",
   "execution_count": null,
   "metadata": {},
   "outputs": [],
   "source": [
    "# review and run GREET COUNT\n",
    "greet_count = 5"
   ]
  },
  {
   "cell_type": "code",
   "execution_count": null,
   "metadata": {},
   "outputs": [],
   "source": [
    "# loop while count is greater than 0\n",
    "while greet_count > 0:\n",
    "    print(greet_count, \"!\")\n",
    "    greet_count -= 1\n",
    "print(\"\\nIGNITION!\")"
   ]
  },
  {
   "cell_type": "markdown",
   "metadata": {},
   "source": [
    "### Task 2\n",
    "\n",
    "while with comparison operator\n",
    "\n",
    "**Program: Animal Names**\n",
    "\n",
    "-    Use `while` to get the user `input`, `animal_name`, of 4 animals\n",
    "    -        use a counter, `num_animals`, in the while loop condition\n",
    "    -        append the names to a string variable, `all_animals`\n",
    "    -        User can exit early by typing \"`exit`\" (check if animal_name is \"exit\" and `break`)\n",
    "-    when the loop finishes, `print` the `names` of `all_animals`\n",
    "\n",
    "    -bonus: print \"`no animals`\" if `animal_name` is empty after exiting the loop\n",
    "\n",
    "**Tip:** Think about Sequence and variables that need to be initialized before the while loop"
   ]
  },
  {
   "cell_type": "code",
   "execution_count": null,
   "metadata": {},
   "outputs": [],
   "source": [
    "num_animals = 0\n",
    "all_animals = \"\"\n",
    "\n",
    "while num_animals <= 4:\n",
    "    animal_name = input(\"Enter animal name or type exit to finish: \")\n",
    "    if animal_name.lower() == \"exit\":\n",
    "        break\n",
    "    else:\n",
    "        if animal_name.isalpha() == True:\n",
    "            all_animals += animal_name + \"\\n\"\n",
    "        else:\n",
    "            all_animals += \"no animals\\n\"\n",
    "    num_animals += 1\n",
    "\n",
    "print(all_animals)\n",
    "    \n",
    "    "
   ]
  },
  {
   "cell_type": "markdown",
   "metadata": {},
   "source": [
    "# while with Boolean string tests\n",
    "\n",
    "Using while with a Boolean String Tests\n",
    "\n",
    "- A while loop can be controlled by Boolean strings such as `while name.isalpha() == False:`\n",
    "\n",
    "### Example"
   ]
  },
  {
   "cell_type": "code",
   "execution_count": null,
   "metadata": {},
   "outputs": [],
   "source": [
    "# review and run example that loops until a valid first name format is entered\n",
    "student_fname = \"\"\n",
    "while student_fname.isalpha() == False:\n",
    "    student_fname = input(\"enter student\\'s first (Letters only, No spaces): \")\n",
    "print(\"\\n\" + student_fname.title(),\"has been entered as first name\")"
   ]
  },
  {
   "cell_type": "markdown",
   "metadata": {},
   "source": [
    "### Task 3\n",
    "\n",
    "Using while with a Boolean String\n",
    "\n",
    "**Program: Long Number**\n",
    "\n",
    "Create variables\n",
    "-    `int_num` and get user `input` `string` of only `digits`\n",
    "-    `long_num` and initialize it as an empty `string`\n",
    "\n",
    "Create a `while` loop that runs as long as the `input` is `all digits`\n",
    "Inside the while loop\n",
    "\n",
    "-    add `int_num` to the end of `long_num`\n",
    "-    get user input for `int_num` again (inside while loop this time)\n",
    "\n",
    "After the loop exits\n",
    "\n",
    "-    `print` the value of `long_num`\n"
   ]
  },
  {
   "cell_type": "code",
   "execution_count": null,
   "metadata": {},
   "outputs": [],
   "source": [
    "int_num = input(\"Please enter a digit: \")\n",
    "long_num = \"\"\n",
    "\n",
    "while int_num.isdigit() == True:\n",
    "    long_num += int_num\n",
    "    int_num = input(\"Please enter a digit: \")\n",
    "\n",
    "print(long_num)\n",
    "    \n"
   ]
  },
  {
   "cell_type": "markdown",
   "metadata": {},
   "source": [
    "### Task 4\n",
    "\n",
    "Fix the Errors\n",
    "\n",
    "This loop never runs\n",
    "This is a logic error - there is no ErrorMessage, but the code doesn't work\n",
    "\n",
    "```python\n",
    "# [ ] review the code, run, fix the Logic error\n",
    "count = 1\n",
    "\n",
    "# loop 5 times\n",
    "while count > 6:\n",
    "    print(count, \"x\", count, \"=\", count*count)\n",
    "    count +=1\n",
    "```   \n",
    "\n"
   ]
  },
  {
   "cell_type": "code",
   "execution_count": null,
   "metadata": {},
   "outputs": [],
   "source": [
    "# [ ] review the code, run, fix the Logic error\n",
    "count = 1\n",
    "\n",
    "# loop 5 times\n",
    "while count < 6: ## should be less than 6\n",
    "    print(count, \"x\", count, \"=\", count*count)\n",
    "    count +=1\n"
   ]
  },
  {
   "cell_type": "code",
   "execution_count": null,
   "metadata": {},
   "outputs": [],
   "source": [
    "def ignore_case(name):\n",
    "    answer = \"\"\n",
    "    while answer.isalpha() == False:\n",
    "        answer = input(\"enter last name: \")\n",
    "    return answer.lower() == name.lower()"
   ]
  },
  {
   "cell_type": "code",
   "execution_count": null,
   "metadata": {},
   "outputs": [],
   "source": [
    "ignore_case(\"mayur\")"
   ]
  },
  {
   "cell_type": "markdown",
   "metadata": {},
   "source": [
    "## Program: str_analysis() Function\n",
    "\n",
    "Create the `str_analysis()` function that takes `1 string` argument and returns a string `message`. The message will be an analysis of a test string that is passed as an argument to `str_analysis()`. The function should respond with messages such as:\n",
    "\n",
    "- `\"big number\"`\n",
    "- `\"small number\"`\n",
    "- `\"all alphabetic\"`\n",
    "- `\"multiple character types\"`\n",
    "\n",
    "The program will call str_analysis() with a string argument from input collected within a while loop. The while loop will test if input is empty (an empty string \"\") and continue to loop and gather input until the user submits at least 1 character (input cannot be empty).\n",
    "\n",
    "The program then calls the str_analysis() function and prints the return message.\n",
    "\n",
    "**Sample input and output:**\n",
    "\n",
    "- `enter nothing (twice) then enter a word`\n",
    "- `enter word or integer: `\n",
    "- `enter word or integer: `\n",
    "- `enter word or integer: Hello`\n",
    "- `\"Hello\" is all alphabetical characters!`\n",
    "  \n"
   ]
  },
  {
   "cell_type": "code",
   "execution_count": null,
   "metadata": {},
   "outputs": [],
   "source": [
    "def str_analysis(arg):\n",
    "    #arg = input(\"type something\")\n",
    "    if arg.isdigit() == True:\n",
    "        if int(arg) > 99:\n",
    "            return print(\"\\\"\"+arg+\"\\\"\",\"is big number\")\n",
    "        else:\n",
    "            return print(\"\\\"\"+arg+\"\\\"\",\"is small number\")\n",
    "    elif arg.isalpha() == True:\n",
    "        return print(\"\\\"\"+arg+\"\\\"\",\"is all alphabetic characters!\")\n",
    "    else:\n",
    "        return print(\"\\\"\"+arg+\"\\\"\",\"is multiple character types\")\n",
    "    \n",
    "while True:\n",
    "    arg = input(\"enter word or integer: \")\n",
    "    if arg != \"\":\n",
    "        str_analysis(arg)\n",
    "        break\n",
    "    else:\n",
    "        pass"
   ]
  },
  {
   "cell_type": "markdown",
   "metadata": {},
   "source": [
    "# Final Project Required Coding Activity\n",
    "\n",
    "## Program: adding_report() function\n",
    "\n",
    "This program calls the `adding_report()` function which repeatedly takes `positive integer input` until the user quits and then `sums` the integers and `prints` a `\"report\"`.\n",
    "The `adding_report()` function has `1 string parameter` which indicates the type of `report:`\n",
    "\n",
    "-    `\"A\"` used as the `argument` to `adding_report()` results in printing of all of the input integers and the total\n",
    "-    `\"T\"` used as the argument results in printing only the `total`\n",
    "\n",
    "**Sample input and output:**\n",
    "\n",
    "call `adding_report()` with `\"A\"` as argument (print all the integers entered and the total)\n",
    "``` \n",
    "Input an integer to add to the total or \"Q\" to quit\n",
    "Enter an integer or \"Q\": 3\n",
    "Enter an integer or \"Q\": 6\n",
    "Enter an integer or \"Q\": 24\n",
    "Enter an integer or \"Q\": 17\n",
    "Enter an integer or \"Q\": 61\n",
    "Enter an integer or \"Q\": nine\n",
    "nine is invalid input\n",
    "Enter an integer or \"Q\": q\n",
    "\n",
    "Items\n",
    "3\n",
    "6\n",
    "24\n",
    "17\n",
    "61\n",
    "\n",
    "Total\n",
    " 111\n",
    "```\n",
    "\n",
    "- call with \"T\"(print only the total)\n",
    "\n",
    "```\n",
    "Input an integer to add to the total or \"Q\" to quit\n",
    "Enter an integer or \"Q\": 5\n",
    "Enter an integer or \"Q\": 7\n",
    "Enter an integer or \"Q\": Quit\n",
    "\n",
    "Total\n",
    " 12\n",
    "```"
   ]
  },
  {
   "cell_type": "code",
   "execution_count": 9,
   "metadata": {},
   "outputs": [],
   "source": [
    "def adding_report(arg,item = \"Item\\n\",total = 0):\n",
    "    while True:\n",
    "        if arg.lower() == \"a\" or arg.lower() == \"t\":\n",
    "            input_digit = input(\"Input an integer to add to the total or \\\"Q\\\" to quit :\")\n",
    "            if input_digit.isdigit() == True:\n",
    "                total += int(input_digit)\n",
    "                item += input_digit + \"\\n\"\n",
    "            elif input_digit.lower() == \"q\":\n",
    "                if arg.lower() == \"a\":\n",
    "                    return print(item + \"\\n\" + \"Total\\n\" + str(total))\n",
    "                    break\n",
    "                elif arg.lower() == \"t\":\n",
    "                    return print(\"Total\\n\" + str(total))\n",
    "                    break\n",
    "            else:\n",
    "                return print(input_digit,\"is invalid input\")\n",
    "        else:\n",
    "            return print(arg,\"is invalid\")\n",
    "            break\n",
    "        "
   ]
  },
  {
   "cell_type": "code",
   "execution_count": 13,
   "metadata": {},
   "outputs": [
    {
     "name": "stdout",
     "output_type": "stream",
     "text": [
      "Input an integer to add to the total or \"Q\" to quit :12\n",
      "Input an integer to add to the total or \"Q\" to quit :14\n",
      "Input an integer to add to the total or \"Q\" to quit :15\n",
      "Input an integer to add to the total or \"Q\" to quit :16\n",
      "Input an integer to add to the total or \"Q\" to quit :18\n",
      "Input an integer to add to the total or \"Q\" to quit :q\n",
      "Total\n",
      "75\n"
     ]
    }
   ],
   "source": [
    "adding_report(\"t\")"
   ]
  },
  {
   "cell_type": "code",
   "execution_count": null,
   "metadata": {},
   "outputs": [],
   "source": []
  }
 ],
 "metadata": {
  "kernelspec": {
   "display_name": "Python 3",
   "language": "python",
   "name": "python3"
  },
  "language_info": {
   "codemirror_mode": {
    "name": "ipython",
    "version": 3
   },
   "file_extension": ".py",
   "mimetype": "text/x-python",
   "name": "python",
   "nbconvert_exporter": "python",
   "pygments_lexer": "ipython3",
   "version": "3.6.3"
  }
 },
 "nbformat": 4,
 "nbformat_minor": 2
}
