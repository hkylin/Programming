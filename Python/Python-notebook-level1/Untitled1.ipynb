{
 "cells": [
  {
   "cell_type": "code",
   "execution_count": null,
   "metadata": {},
   "outputs": [],
   "source": [
    "# [ ] print a string that outputs the following exactly: The new line character is \"\\n\"\n",
    "\n",
    "print(\"The new line character is \\\"\\\\n\\\"\")\n",
    "# [ ] print output that is exactly (with quotes): \"That's how we escape!\"\n",
    "\n",
    "print('\"That\\'s how we escape!\"')\n",
    "\n",
    "# [ ] with only 1 print statement and using No Space Characters, output the text commented below  \n",
    "\n",
    "# 1       one\n",
    "# 22      two\n",
    "# 333     three\n",
    "\n",
    "print(\"1\\tone\\n22\\ttwo\\n333\\tthree\")\n"
   ]
  },
  {
   "cell_type": "markdown",
   "metadata": {},
   "source": [
    "## Program: quote_me() Function\n",
    "\n",
    "`quote_me` takes a `string` argument and `returns` a `string` that will display surrounded with added `double quotes` if printed\n",
    "\n",
    "-    check if `passed` string `starts with` a double quote `(\"\\\"\")`, then surround string with `single quotations`\n",
    "-    if the passed string starts with `single quote`, or if doesn't start with a `quotation mark`, then surround with `double quotations`\n",
    "\n",
    "Test the function code passing string input as the argument to `quote_me()`\n",
    "\n",
    "\n",
    "\n"
   ]
  },
  {
   "cell_type": "code",
   "execution_count": null,
   "metadata": {},
   "outputs": [],
   "source": [
    "def quote_me(arg=\"\"):\n",
    "    arg = input(\"enter some text\")\n",
    "    if arg.startswith(\"\\\"\") == True:\n",
    "        return print(\"'\" + arg + \"'\")\n",
    "    elif arg.startswith(\"'\") == True:\n",
    "        return print(\"\\\"\" + arg + \"\\\"\")\n",
    "    else:\n",
    "        return print(\"\\\"\" + arg + \"\\\"\")        \n"
   ]
  },
  {
   "cell_type": "code",
   "execution_count": null,
   "metadata": {},
   "outputs": [],
   "source": [
    "quote_me()"
   ]
  },
  {
   "cell_type": "markdown",
   "metadata": {},
   "source": [
    "## Program: shirt order\n",
    "\n",
    "First get `input` for `color and size`\n",
    "\n",
    "-    White has sizes `L, M`\n",
    "-    Blue has sizes `M, S`\n",
    "\n",
    "print `avaiable` or `unavailable`, then\n",
    "print the order confirmation of `color` and `size`\n",
    "\n",
    "* hint: set a variable \"`available = False`\" before nested if statements and\n",
    "change to `True` if `color and size` are `avaiable`*"
   ]
  },
  {
   "cell_type": "code",
   "execution_count": null,
   "metadata": {},
   "outputs": [],
   "source": [
    "choice = input(\"please enter color and size: \")\n",
    "white = \"L M\"\n",
    "Blue = \"M S\"\n",
    "\n",
    "if \"blue\" in choice.lower():\n",
    "    if \"m\" in choice.lower() or \"s\" in choice.lower():\n",
    "        print(\"avaiable\")\n",
    "    else:\n",
    "        print(\"not avaiable\")   \n",
    "elif \"white\" in choice.lower():\n",
    "    if \"l\" in choice.lower() or \"m\" in choice.lower()\n",
    "        print(\"avaiable\")\n",
    "    else:\n",
    "        print(\"not avaiable\") \n",
    "else:\n",
    "    print(\"color not found\")\n"
   ]
  },
  {
   "cell_type": "markdown",
   "metadata": {},
   "source": [
    "## Program: str_analysis() Function\n",
    "\n",
    "Create the `str_analysis()` function that takes a `string argument`. In the `body` of the function:\n",
    "\n",
    "-    Check if string is `digits`\n",
    "    -    if `digits`: convert to `int` and check if `greater than 99`\n",
    "        -          if `greater than 99` print a message about a `\"big number\"`\n",
    "        -          if `not greater than 99` print message about `small number`\n",
    "    -      if `not digits`: check if string `isalpha`\n",
    "        -          if `isalpha` print message about being `all alpha`\n",
    "        -          if `not isalpha` print a message about being `neither all alpha nor all digit`\n",
    "\n",
    "call the function with a string from user input"
   ]
  },
  {
   "cell_type": "code",
   "execution_count": null,
   "metadata": {},
   "outputs": [],
   "source": [
    "def str_analysis(arg = \"\"):\n",
    "    arg = input(\"type something\")\n",
    "    if arg.isdigit() == True:\n",
    "        if int(arg) > 99:\n",
    "            return print(\"Big number\")\n",
    "        else:\n",
    "            return print(\"small number\")\n",
    "    elif arg.isalpha() == True:\n",
    "        return print(\"all alpha\")\n",
    "    else:\n",
    "        return print(\"neither all alpha nor all digit\")"
   ]
  },
  {
   "cell_type": "code",
   "execution_count": null,
   "metadata": {},
   "outputs": [],
   "source": [
    "str_analysis()"
   ]
  },
  {
   "cell_type": "markdown",
   "metadata": {},
   "source": [
    "## Program: ticket_check() - finds out if a seat is avaiable\n",
    "\n",
    "Call `ticket_check()` function with `2 arguments`: `section` and `seats requested` and return `True` or `False`\n",
    "\n",
    "-    `section` is a `string` and expects: `general`, `floor`\n",
    "-    `seats` is an `integer` and expects: `1 - 10`\n",
    "\n",
    "Check for valid section and seats\n",
    "\n",
    "-    if section is `general` (or use startswith \"g\")\n",
    "        if seats is `1-10` return `True`\n",
    "-    if section is `floor` (or use starts with \"f\")\n",
    "        if seats is `1-4` return `True`\n",
    "\n",
    "otherwise return `False`"
   ]
  },
  {
   "cell_type": "code",
   "execution_count": null,
   "metadata": {},
   "outputs": [],
   "source": [
    "def ticket_check():\n",
    "    section = input(\"Enter section: \")\n",
    "    seats = input(\"enter seats: \")\n",
    "    if section.lower() == \"general\" and int(seats) in range(1,11):\n",
    "        return True\n",
    "    elif section.lower() == \"floor\" and int(seats) in range(1,5):\n",
    "        return True\n",
    "    else:\n",
    "        return False                                             "
   ]
  },
  {
   "cell_type": "code",
   "execution_count": null,
   "metadata": {},
   "outputs": [],
   "source": [
    "ticket_check()"
   ]
  },
  {
   "cell_type": "markdown",
   "metadata": {},
   "source": [
    "## create a function: quiz_item() that asks a question and tests if input is correct\n",
    "\n",
    "-    `quiz_item()` has 2 parameter strings: `question and solution`\n",
    "-    `shows question`, gets `answer input`\n",
    "-    returns `True if answer == solution` or continues to ask question until `correct answer is provided`\n",
    "-    use a `while loop`\n",
    "\n",
    "create 2 or more quiz questions that call quiz_item()\n",
    "Hint: provide multiple choice or T/F answers"
   ]
  },
  {
   "cell_type": "code",
   "execution_count": 25,
   "metadata": {},
   "outputs": [],
   "source": [
    "def quiz_item(question,solution):\n",
    "    while True:\n",
    "        reply = input(question)\n",
    "        if reply.lower() == solution.lower():\n",
    "            return True\n",
    "            break\n",
    "        else:\n",
    "            print(\"wrong answer\")"
   ]
  },
  {
   "cell_type": "code",
   "execution_count": 26,
   "metadata": {},
   "outputs": [
    {
     "name": "stdout",
     "output_type": "stream",
     "text": [
      "what is biger number 100 or 500500\n",
      "what is smaller number 100 or 500500\n",
      "wrong answer\n",
      "what is smaller number 100 or 500500\n",
      "wrong answer\n",
      "what is smaller number 100 or 500100\n",
      "what shine in nightsun\n",
      "wrong answer\n",
      "what shine in nightstar\n",
      "what shine in daysun\n"
     ]
    },
    {
     "data": {
      "text/plain": [
       "True"
      ]
     },
     "execution_count": 26,
     "metadata": {},
     "output_type": "execute_result"
    }
   ],
   "source": [
    "question1 = \"what is biger number 100 or 500\"\n",
    "solution1 = \"500\"\n",
    "question2 = \"what is smaller number 100 or 500\"\n",
    "solution2 = \"100\"\n",
    "question3 = \"what shine in night\"\n",
    "solution3 = \"star\"\n",
    "question4 = \"what shine in day\"\n",
    "solution4 = \"sun\"\n",
    "\n",
    "\n",
    "quiz_item(question1,solution1)\n",
    "quiz_item(question2,solution2)\n",
    "quiz_item(question3,solution3)\n",
    "quiz_item(question4,solution4)"
   ]
  },
  {
   "cell_type": "code",
   "execution_count": 4,
   "metadata": {},
   "outputs": [
    {
     "name": "stdout",
     "output_type": "stream",
     "text": [
      "act\n",
      "charac\n",
      "haract\n"
     ]
    }
   ],
   "source": [
    "word = \"characteristics\"\n",
    "print(word[4:7])"
   ]
  },
  {
   "cell_type": "code",
   "execution_count": 5,
   "metadata": {},
   "outputs": [
    {
     "name": "stdout",
     "output_type": "stream",
     "text": [
      "Atn\n"
     ]
    }
   ],
   "source": [
    "      name = \"Alton\"\n",
    "print(name[::2])"
   ]
  },
  {
   "cell_type": "code",
   "execution_count": null,
   "metadata": {},
   "outputs": [],
   "source": []
  }
 ],
 "metadata": {
  "kernelspec": {
   "display_name": "Python 3",
   "language": "python",
   "name": "python3"
  },
  "language_info": {
   "codemirror_mode": {
    "name": "ipython",
    "version": 3
   },
   "file_extension": ".py",
   "mimetype": "text/x-python",
   "name": "python",
   "nbconvert_exporter": "python",
   "pygments_lexer": "ipython3",
   "version": "3.6.3"
  }
 },
 "nbformat": 4,
 "nbformat_minor": 2
}
