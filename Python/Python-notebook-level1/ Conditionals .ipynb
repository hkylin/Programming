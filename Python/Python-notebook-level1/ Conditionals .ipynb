{
 "cells": [
  {
   "cell_type": "markdown",
   "metadata": {},
   "source": [
    "# Conditionals\n",
    "\n",
    "- `if, else, pass`\n",
    "    - Conditionals using Boolean String Methods\n",
    "    - Comparison operators\n",
    "    - String comparisons\n"
   ]
  },
  {
   "cell_type": "code",
   "execution_count": 1,
   "metadata": {},
   "outputs": [
    {
     "name": "stdout",
     "output_type": "stream",
     "text": [
      "True means do something\n"
     ]
    }
   ],
   "source": [
    "# Python\n",
    "if True:\n",
    "    print(\"True means do something\")\n",
    "else:\n",
    "    print(\"Not True means do something else\")"
   ]
  },
  {
   "cell_type": "code",
   "execution_count": 10,
   "metadata": {},
   "outputs": [
    {
     "name": "stdout",
     "output_type": "stream",
     "text": [
      "enjoy some hot tea!\n",
      "enjoy some tea, and perhaps try hot tea next time.\n"
     ]
    }
   ],
   "source": [
    "hot_tea = True\n",
    "\n",
    "if hot_tea:\n",
    "    print(\"enjoy some hot tea!\")\n",
    "else:\n",
    "    print(\"enjoy some tea, and perhaps try hot tea next time.\")\n",
    "\n",
    "### changed the value of hot_tea \n",
    "\n",
    "hot_tea = False # hot_tea set to False\n",
    "if hot_tea:\n",
    "    print(\"enjoy some hot tea!\")\n",
    "else:\n",
    "    print(\"enjoy some tea, and perhaps try hot tea next time.\")\n"
   ]
  },
  {
   "cell_type": "code",
   "execution_count": 7,
   "metadata": {},
   "outputs": [
    {
     "name": "stdout",
     "output_type": "stream",
     "text": [
      "how have you been?\n"
     ]
    }
   ],
   "source": [
    "someone_i_know = False\n",
    "if someone_i_know:\n",
    "    print(\"how have you been?\")\n",
    "else:\n",
    "    # use pass if there is no need to execute code \n",
    "    pass\n",
    "\n",
    "# changed the value of someone_i_know\n",
    "someone_i_know = True\n",
    "if someone_i_know:\n",
    "    print(\"how have you been?\")\n",
    "else:\n",
    "    pass"
   ]
  },
  {
   "cell_type": "markdown",
   "metadata": {},
   "source": [
    "### Task 1\n",
    "Conditionals\n",
    "Using Boolean with `if, else`\n",
    "\n",
    "-    Give a weather report using `if, else`\n",
    "\n",
    "`sunny_today = True`"
   ]
  },
  {
   "cell_type": "code",
   "execution_count": 11,
   "metadata": {},
   "outputs": [
    {
     "name": "stdout",
     "output_type": "stream",
     "text": [
      "It's sunny today\n"
     ]
    }
   ],
   "source": [
    "sunny_today = True\n",
    "if True:\n",
    "    print(\"It's sunny today\")\n",
    "else:\n",
    "    print(\"Its not so sunny today\")"
   ]
  },
  {
   "cell_type": "markdown",
   "metadata": {},
   "source": [
    "# Conditional with Boolean String Methods\n",
    "Using Conditionals with Boolean String test methods\n",
    "`if student_name.isalpha():`\n",
    "\n",
    "-    `.isalnum()`\n",
    "-    `.istitle()`\n",
    "-    `.isdigit()`\n",
    "-    `.islower()`\n",
    "-    `.startswith()`\n",
    "\n",
    "### Example"
   ]
  },
  {
   "cell_type": "code",
   "execution_count": 12,
   "metadata": {},
   "outputs": [
    {
     "name": "stdout",
     "output_type": "stream",
     "text": [
      "Enter the title of a favorite book: titanic\n",
      "titanic - consider capitalization throughout for book titles.\n"
     ]
    }
   ],
   "source": [
    "favorite_book = input(\"Enter the title of a favorite book: \")\n",
    "\n",
    "if favorite_book.istitle():\n",
    "    print(favorite_book, \"- nice capitalization in that title!\")\n",
    "else:\n",
    "    print(favorite_book, \"- consider capitalization throughout for book titles.\")\n"
   ]
  },
  {
   "cell_type": "code",
   "execution_count": 17,
   "metadata": {},
   "outputs": [
    {
     "name": "stdout",
     "output_type": "stream",
     "text": [
      "enter a positive integer number: fdsfsdf\n",
      "fdsfsdf is not a positive integer\n"
     ]
    }
   ],
   "source": [
    "a_number = input(\"enter a positive integer number: \")\n",
    "\n",
    "if a_number.isdigit():\n",
    "    print(a_number, \"is a positive integer\")\n",
    "else:\n",
    "    print(a_number, \"is not a positive integer\")"
   ]
  },
  {
   "cell_type": "code",
   "execution_count": 18,
   "metadata": {},
   "outputs": [
    {
     "name": "stdout",
     "output_type": "stream",
     "text": [
      "fdsfsdf is more like a word\n"
     ]
    }
   ],
   "source": [
    "if a_number.isalpha():\n",
    "    print(a_number, \"is more like a word\")\n",
    "else:\n",
    "    pass"
   ]
  },
  {
   "cell_type": "code",
   "execution_count": 19,
   "metadata": {},
   "outputs": [
    {
     "name": "stdout",
     "output_type": "stream",
     "text": [
      "\"enter a type of vehicle that starts with \"P\": porche\n",
      "porche starts with \"P\"\n"
     ]
    }
   ],
   "source": [
    "vehicle_type = input('\"enter a type of vehicle that starts with \"P\": ')\n",
    "\n",
    "if vehicle_type.upper().startswith(\"P\"):\n",
    "    print(vehicle_type, 'starts with \"P\"')\n",
    "else:\n",
    "    print(vehicle_type, 'does not start with \"P\"')"
   ]
  },
  {
   "cell_type": "markdown",
   "metadata": {},
   "source": [
    "### Task 2: multi-part\n",
    "Evaluating Boolean Conditionals\n",
    "create evaluations for .islower()\n",
    "\n",
    "-    print output describing `if` each of the 2 strings is all lower or not\n",
    "\n",
    "`test_string_1 = \"welcome\"`\n",
    "`test_string_2 = \"I have $3\"`\n"
   ]
  },
  {
   "cell_type": "code",
   "execution_count": 21,
   "metadata": {},
   "outputs": [
    {
     "name": "stdout",
     "output_type": "stream",
     "text": [
      "welcome is in lower case\n",
      "I have $3 is not in lower case\n"
     ]
    }
   ],
   "source": [
    "# [ ] use if, else to test for islower() for the 2 strings\n",
    "test_string_1 = \"welcome\"\n",
    "if test_string_1.islower():\n",
    "    print(test_string_1,\"is in lower case\")\n",
    "else:\n",
    "    print(test_string_1,\"is not in lower case\")\n",
    "\n",
    "test_string_2 = \"I have $3\"\n",
    "if test_string_2.islower():\n",
    "    print(test_string_2,\"is in lower case\")\n",
    "else:\n",
    "    print(test_string_2,\"is not in lower case\")\n"
   ]
  },
  {
   "cell_type": "markdown",
   "metadata": {},
   "source": [
    "### Task 2 continued...\n",
    "create a functions using startswith('w')\n",
    "\n",
    "-    `w_start_test()` tests if starts with `\"w\"`\n",
    "    function should have a parameter for `test_string` and print the test result\n",
    "\n",
    "    - `test_string_1 = \"welcome\"`\n",
    "    - `test_string_2 = \"I have $3\"`\n",
    "    - `test_string_3 = \"With a function it's efficient to repeat code\"`\n"
   ]
  },
  {
   "cell_type": "code",
   "execution_count": 26,
   "metadata": {},
   "outputs": [
    {
     "name": "stdout",
     "output_type": "stream",
     "text": [
      "welcome 'starts with w'\n",
      "I have $3 'does not starts with w'\n",
      "With a function it's efficient to repeat code 'starts with w'\n"
     ]
    }
   ],
   "source": [
    "# [ ] create a function w_start_test() use if & else to test with startswith('w')\n",
    "def w_start_test(test_string):\n",
    "    if test_string.lower().startswith('w'):\n",
    "        return print(test_string,\"'starts with w'\")\n",
    "    else:\n",
    "        return print(test_string,\"'does not starts with w'\")\n",
    "# [ ] Test the 3 string variables provided by calling w_start_test()\n",
    "test_string_1 = \"welcome\"\n",
    "w_start_test(test_string_1)\n",
    "test_string_2 = \"I have $3\"\n",
    "w_start_test(test_string_2)\n",
    "test_string_3 = \"With a function it's efficient to repeat code\"\n",
    "w_start_test(test_string_3)\n"
   ]
  },
  {
   "cell_type": "markdown",
   "metadata": {},
   "source": [
    "# Comparison Operators\n",
    "\n",
    " -   control code flow with `if... else` conditional logic\n",
    " -   using comparison `(>, <, >=, <=, ==, !=)`\n",
    "\n",
    "### Example"
   ]
  },
  {
   "cell_type": "code",
   "execution_count": 29,
   "metadata": {},
   "outputs": [
    {
     "data": {
      "text/plain": [
       "False"
      ]
     },
     "execution_count": 29,
     "metadata": {},
     "output_type": "execute_result"
    }
   ],
   "source": [
    "# [ ] review and run code to see if 3 greater than 5\n",
    "3 > 5"
   ]
  },
  {
   "cell_type": "code",
   "execution_count": 30,
   "metadata": {},
   "outputs": [
    {
     "data": {
      "text/plain": [
       "True"
      ]
     },
     "execution_count": 30,
     "metadata": {},
     "output_type": "execute_result"
    }
   ],
   "source": [
    "# [ ] review and run code to see if 3 less than or equal to 5\n",
    "3 <= 5"
   ]
  },
  {
   "cell_type": "code",
   "execution_count": 34,
   "metadata": {},
   "outputs": [
    {
     "data": {
      "text/plain": [
       "False"
      ]
     },
     "execution_count": 34,
     "metadata": {},
     "output_type": "execute_result"
    }
   ],
   "source": [
    "# assign x equal to 3\n",
    "x = 3\n",
    "# test if x is equal to\n",
    "x == 9"
   ]
  },
  {
   "cell_type": "code",
   "execution_count": 35,
   "metadata": {},
   "outputs": [
    {
     "name": "stdout",
     "output_type": "stream",
     "text": [
      "x not equal 9 is True\n",
      "x equal 3 is True\n"
     ]
    }
   ],
   "source": [
    "# [ ] review and run code \n",
    "x = 3\n",
    "print(\"x not equal 9 is\", x != 9)\n",
    "print(\"x equal 3 is\", x == 3)"
   ]
  },
  {
   "cell_type": "markdown",
   "metadata": {},
   "source": [
    "### Task 1\n",
    "comparison operators\n",
    "\n",
    "`x = 9 + 4`"
   ]
  },
  {
   "cell_type": "code",
   "execution_count": 44,
   "metadata": {},
   "outputs": [
    {
     "name": "stdout",
     "output_type": "stream",
     "text": [
      "x is equal to 13 True\n",
      "3+3 is greater than 2+4 False\n"
     ]
    }
   ],
   "source": [
    "# [ ] create a test to print() True or False for x is equal to 13\n",
    "print(\"x is equal to 13\", x == 13)\n",
    "# [ ] create a test to print True or False for 3 + 3 is greater than 2 + 4\n",
    "print(\"3+3 is greater than 2+4\", 3+3 > 2+4)"
   ]
  },
  {
   "cell_type": "code",
   "execution_count": 46,
   "metadata": {},
   "outputs": [
    {
     "name": "stdout",
     "output_type": "stream",
     "text": [
      "x is equal to 13\n",
      "3+3 is not greater than 2+4\n"
     ]
    }
   ],
   "source": [
    "\n"
   ]
  },
  {
   "cell_type": "markdown",
   "metadata": {},
   "source": [
    "# Comparison Operators in Conditionals\n",
    "\n",
    "Example"
   ]
  },
  {
   "cell_type": "code",
   "execution_count": 47,
   "metadata": {},
   "outputs": [
    {
     "name": "stdout",
     "output_type": "stream",
     "text": [
      "x is equal to 13\n",
      "3+3 is not greater than 2+4\n"
     ]
    }
   ],
   "source": [
    "x= 9+4\n",
    "if x == 13:\n",
    "    print(\"x is equal to 13\")\n",
    "else:\n",
    "    print(\"x is not equal to 13\")\n",
    "\n",
    "\n",
    "y = 3+3\n",
    "z = 2+4\n",
    "\n",
    "if y > z:\n",
    "    print(\"3+3 is greater then 2+4\")\n",
    "else:\n",
    "    print(\"3+3 is not greater than 2+4\")"
   ]
  },
  {
   "cell_type": "code",
   "execution_count": 48,
   "metadata": {},
   "outputs": [
    {
     "name": "stdout",
     "output_type": "stream",
     "text": [
      "x was 21\n",
      "now x is 25\n"
     ]
    }
   ],
   "source": [
    "x = 21\n",
    "if x > 25:\n",
    "    print(\"x is already bigger than 25\")\n",
    "else:\n",
    "    print(\"x was\", x)\n",
    "    x = 25\n",
    "    print(\"now x is\", x)"
   ]
  },
  {
   "cell_type": "code",
   "execution_count": 49,
   "metadata": {},
   "outputs": [
    {
     "name": "stdout",
     "output_type": "stream",
     "text": [
      "Pass: x + 18 is equal to 36\n"
     ]
    }
   ],
   "source": [
    "x = 18\n",
    "if x + 18 == x + x:\n",
    "    print(\"Pass: x + 18 is equal to\", x + x)\n",
    "else:\n",
    "    print(\"Fail: x + 18 is not equal to\", x + x)"
   ]
  },
  {
   "cell_type": "code",
   "execution_count": 50,
   "metadata": {},
   "outputs": [
    {
     "name": "stdout",
     "output_type": "stream",
     "text": [
      "x is 18\n"
     ]
    }
   ],
   "source": [
    "x = 18\n",
    "test_value = 18\n",
    "if x != test_value:\n",
    "    print('x is not', test_value)\n",
    "else:\n",
    "    print('x is', test_value)"
   ]
  },
  {
   "cell_type": "code",
   "execution_count": 52,
   "metadata": {},
   "outputs": [
    {
     "name": "stdout",
     "output_type": "stream",
     "text": [
      "\"==\" tests for, is equal to\n"
     ]
    }
   ],
   "source": [
    "# review code and run cell\n",
    "# DON'T ASSIGN (x = 2) when you mean to COMPARE (x == 2)\n",
    "x = 2\n",
    "\n",
    "if x == 2:\n",
    "    print('\"==\" tests for, is equal to')\n",
    "else:\n",
    "    pass"
   ]
  },
  {
   "cell_type": "markdown",
   "metadata": {},
   "source": [
    "### Task 2\n",
    "Evaluating a comparison operator in `if.. else `\n",
    "\n",
    "\n",
    "\n",
    "\n"
   ]
  },
  {
   "cell_type": "code",
   "execution_count": 67,
   "metadata": {},
   "outputs": [
    {
     "name": "stdout",
     "output_type": "stream",
     "text": [
      "y greater than or equal x + x is True\n"
     ]
    }
   ],
   "source": [
    "x = 3\n",
    "y = x + 8\n",
    "\n",
    "# [ ] create an if/else statement that tests if y is greater than or equal x + x \n",
    "# [ ] print output: \"y greater than or equal x + x is\" True/False ...or a similar output\n",
    "if y >= x + x:\n",
    "    #print(\"y is\",y)\n",
    "    #print(\"x + x is\", x + x)\n",
    "    print(\"y greater than or equal x + x is True\")\n",
    "else:\n",
    "    #print(\"y is\",y)\n",
    "    #print(\"x + x is\", x + x)\n",
    "    print(\"y greater than or equal to x + x is False\")\n"
   ]
  },
  {
   "cell_type": "markdown",
   "metadata": {},
   "source": [
    "# String comparisons\n",
    "\n",
    "-    control code flow with `if... else` conditional logic\n",
    "-    using `strings` in comparisons\n",
    "-    Strings can be equal `== `or unequal `!=`\n",
    "-    Strings can be greater than `>` or less than `<`\n",
    "-    alphabetically `\"A\"` is less than `\"B\"`\n",
    "-    lower case `\"a\"` is greater than upper case `\"A\"`\n",
    "\n",
    "### Example\n"
   ]
  },
  {
   "cell_type": "code",
   "execution_count": 69,
   "metadata": {},
   "outputs": [
    {
     "data": {
      "text/plain": [
       "False"
      ]
     },
     "execution_count": 69,
     "metadata": {},
     "output_type": "execute_result"
    }
   ],
   "source": [
    "\"hello\" < \"Hello\""
   ]
  },
  {
   "cell_type": "code",
   "execution_count": 70,
   "metadata": {},
   "outputs": [
    {
     "data": {
      "text/plain": [
       "True"
      ]
     },
     "execution_count": 70,
     "metadata": {},
     "output_type": "execute_result"
    }
   ],
   "source": [
    "\"hello\" > \"Hello\""
   ]
  },
  {
   "cell_type": "code",
   "execution_count": 71,
   "metadata": {},
   "outputs": [
    {
     "data": {
      "text/plain": [
       "False"
      ]
     },
     "execution_count": 71,
     "metadata": {},
     "output_type": "execute_result"
    }
   ],
   "source": [
    "\"Aardvark\" > \"Zebra\""
   ]
  },
  {
   "cell_type": "code",
   "execution_count": 72,
   "metadata": {},
   "outputs": [
    {
     "data": {
      "text/plain": [
       "True"
      ]
     },
     "execution_count": 72,
     "metadata": {},
     "output_type": "execute_result"
    }
   ],
   "source": [
    "'student' != 'Student'"
   ]
  },
  {
   "cell_type": "code",
   "execution_count": 73,
   "metadata": {},
   "outputs": [
    {
     "name": "stdout",
     "output_type": "stream",
     "text": [
      "'student' >= 'Student' is True\n",
      "'student' != 'Student' is True\n"
     ]
    }
   ],
   "source": [
    "print(\"'student' >= 'Student' is\", 'student' >= 'Student')\n",
    "print(\"'student' != 'Student' is\", 'student' != 'Student')"
   ]
  },
  {
   "cell_type": "code",
   "execution_count": 74,
   "metadata": {},
   "outputs": [
    {
     "data": {
      "text/plain": [
       "True"
      ]
     },
     "execution_count": 74,
     "metadata": {},
     "output_type": "execute_result"
    }
   ],
   "source": [
    "\"Hello \" + \"World!\" == \"Hello World!\""
   ]
  },
  {
   "cell_type": "markdown",
   "metadata": {},
   "source": [
    "### Task 1\n",
    "String Comparisons\n",
    "\n",
    "`msg = \"Hello\"`"
   ]
  },
  {
   "cell_type": "code",
   "execution_count": 75,
   "metadata": {},
   "outputs": [
    {
     "name": "stdout",
     "output_type": "stream",
     "text": [
      "True\n"
     ]
    }
   ],
   "source": [
    "# [ ] print the True/False results of testing if msg string equals \"Hello\" string\n",
    "msg = \"Hello\"\n",
    "print(msg == \"Hello\")"
   ]
  },
  {
   "cell_type": "code",
   "execution_count": 77,
   "metadata": {},
   "outputs": [
    {
     "name": "stdout",
     "output_type": "stream",
     "text": [
      "Say \"Hello\"hello\n",
      "False\n"
     ]
    }
   ],
   "source": [
    "greeting = \"Hello\"\n",
    "# [ ] get input for variable named msg, and ask user to 'Say \"Hello\"'\n",
    "msg = input('Say \"Hello\"')\n",
    "# [ ] print the results of testing if msg string equals greeting string\n",
    "print(greeting == msg)"
   ]
  },
  {
   "cell_type": "markdown",
   "metadata": {},
   "source": [
    "# String Comparison with `if`\n",
    "\n",
    "### Examples"
   ]
  },
  {
   "cell_type": "code",
   "execution_count": 78,
   "metadata": {},
   "outputs": [
    {
     "name": "stdout",
     "output_type": "stream",
     "text": [
      "message as expected\n"
     ]
    }
   ],
   "source": [
    "msg = \"Save the notebook\"\n",
    "if msg.lower() == \"save the notebook\":\n",
    "    print(\"message as expected\")\n",
    "else:\n",
    "    print(\"message not as expected\")"
   ]
  },
  {
   "cell_type": "code",
   "execution_count": 79,
   "metadata": {},
   "outputs": [
    {
     "name": "stdout",
     "output_type": "stream",
     "text": [
      "message as expected\n"
     ]
    }
   ],
   "source": [
    "msg = \"Save the notebook\"\n",
    "prediction = \"save the notebook\"\n",
    "\n",
    "if msg.lower() == prediction.lower():\n",
    "    print(\"message as expected\")\n",
    "else:\n",
    "    print(\"message not as expected\")"
   ]
  },
  {
   "cell_type": "markdown",
   "metadata": {},
   "source": [
    "### Task 2\n",
    "Conditionals: comparison operators with `if`"
   ]
  },
  {
   "cell_type": "code",
   "execution_count": 84,
   "metadata": {},
   "outputs": [
    {
     "name": "stdout",
     "output_type": "stream",
     "text": [
      "What is 8 + 13? : 21\n",
      "21 is correct answer\n"
     ]
    }
   ],
   "source": [
    "# [ ] get input for a variable, answer, and ask user 'What is 8 + 13? : '\n",
    "answer = input('What is 8 + 13? : ')\n",
    "if answer == \"21\":\n",
    "    print(answer,\"is correct answer\")\n",
    "else:\n",
    "    print(answer,\"is incorrect answer\")\n",
    "# [ ] print messages for correct answer \"21\" or incorrect answer using if/else\n",
    "# note: input returns a \"string\""
   ]
  },
  {
   "cell_type": "markdown",
   "metadata": {},
   "source": [
    "### Task 3\n",
    "Program: True False Quiz Function\n",
    "\n",
    "Call the `tf_quiz` function with 2 arguments\n",
    "\n",
    "-    T/F question string\n",
    "-    answer key string like \"T\"\n",
    "\n",
    "Return a string: `correct` or `incorrect`\n",
    "\n",
    "Define and use tf_quiz() function\n",
    "\n",
    "-    `tf_quiz()` has 2 parameters which are both string arguments\n",
    "-        question: a string containg a `True/False` question like \"Should save your notebook after edit?(T/F): \"\n",
    "-        correct_ans: a string indicating the correct answer, either `\"T\"` or `\"F\"`\n",
    "-    `tf_quiz()` returns a string: `\"correct\"` or `\"incorrect\"`\n",
    "-    Test `tf_quiz()`: create a `T/F` question (or several!) to call `tf_quiz()`\n"
   ]
  },
  {
   "cell_type": "code",
   "execution_count": 119,
   "metadata": {},
   "outputs": [
    {
     "name": "stdout",
     "output_type": "stream",
     "text": [
      "(T/F) Should save your notebook after edit?(T/F):: f\n",
      "(T/F) One should not take daily bath?: t\n",
      "(T/F) should you sleep late at night?: t\n",
      "(T/F) earth is round: f\n",
      "(T/F) smoking is good for health?: t\n",
      "your answer is incorrect\n",
      "your answer is incorrect\n",
      "your answer is incorrect\n",
      "your answer is incorrect\n",
      "your answer is incorrect\n"
     ]
    }
   ],
   "source": [
    "def tf_quiz(question,correct_ans):\n",
    "    answer = input(\"(T/F) \" + question + \": \")\n",
    "    if answer.lower() == correct_ans.lower():\n",
    "        return \"correct\"\n",
    "    else:\n",
    "        return \"incorrect\"\n",
    "\n",
    "quiz  = tf_quiz(\"Should save your notebook after edit?(T/F):\",\"t\")\n",
    "quiz1 = tf_quiz(\"One should not take daily bath?\",\"f\")\n",
    "quiz2 = tf_quiz(\"should you sleep late at night?\",\"f\")\n",
    "quiz3 = tf_quiz(\"earth is round\",\"t\")\n",
    "quiz4 = tf_quiz(\"smoking is good for health?\",\"f\")\n",
    "\n",
    "print(\"your answer is\",quiz)\n",
    "print(\"your answer is\",quiz1)\n",
    "print(\"your answer is\",quiz2)\n",
    "print(\"your answer is\",quiz3)\n",
    "print(\"your answer is\",quiz4)"
   ]
  },
  {
   "cell_type": "markdown",
   "metadata": {},
   "source": [
    "# Conditions elif and casting\n",
    "\n",
    "### Example"
   ]
  },
  {
   "cell_type": "code",
   "execution_count": 120,
   "metadata": {},
   "outputs": [
    {
     "name": "stdout",
     "output_type": "stream",
     "text": [
      "Enter weather (sunny, rainy, snowy): rainy\n",
      "Bring an umbrella and boots\n"
     ]
    }
   ],
   "source": [
    "# [ ] review the code then run testing different inputs\n",
    "# WHAT TO WEAR\n",
    "weather = input(\"Enter weather (sunny, rainy, snowy): \") \n",
    "\n",
    "if weather.lower() == \"sunny\":\n",
    "    print(\"Wear a t-shirt\")\n",
    "elif weather.lower() == \"rainy\":\n",
    "    print(\"Bring an umbrella and boots\")\n",
    "elif weather.lower() == \"snowy\":\n",
    "    print(\"Wear a warm coat and hat\")\n",
    "else:\n",
    "    print(\"Sorry, not sure what to suggest for\", weather)"
   ]
  },
  {
   "cell_type": "code",
   "execution_count": 126,
   "metadata": {},
   "outputs": [
    {
     "name": "stdout",
     "output_type": "stream",
     "text": [
      "Enter a guess for the secret number (1-3): 2\n",
      "Guess is right\n"
     ]
    }
   ],
   "source": [
    "# [ ] review the code then run testing different inputs\n",
    "# SECRET NUMBER GUESS\n",
    "secret_num = \"2\"\n",
    "\n",
    "guess = input(\"Enter a guess for the secret number (1-3): \")\n",
    "\n",
    "if guess.isdigit() == False:\n",
    "    print(\"Invalid: guess should only use digits\")\n",
    "elif guess == \"1\":\n",
    "    print(\"Guess is too low\")\n",
    "elif guess == secret_num:\n",
    "    print(\"Guess is right\")\n",
    "elif guess == \"3\":\n",
    "    print(\"Guess is too high\")\n",
    "else:\n",
    "    print(guess, \"is not a valid guess (1-3)\")"
   ]
  },
  {
   "cell_type": "markdown",
   "metadata": {},
   "source": [
    "### Task 1\n",
    "Program: Shirt Sale\n",
    "Complete program using   if, elif, else\n",
    "\n",
    "-    Get user input for variable `size` `(S, M, L)`\n",
    "-    reply with each shirt `size` and `price` `(Small = $ 6, Medium = $ 7, Large = $ 8)`\n",
    "-    if the reply is other than `S, M, L,` give a message for not available\n",
    "-    optional: add additional sizes\n",
    "\n"
   ]
  },
  {
   "cell_type": "code",
   "execution_count": 133,
   "metadata": {},
   "outputs": [
    {
     "name": "stdout",
     "output_type": "stream",
     "text": [
      "Enter Size: (S,M,L) l\n",
      "Large = $8\n"
     ]
    }
   ],
   "source": [
    "# [ ] code and test SHIRT SALE\n",
    "size = input(\"Enter Size: (S,M,L) \")\n",
    "if size.upper() == \"S\":\n",
    "    print(\"Small = $6\")\n",
    "elif size.upper() == \"M\":\n",
    "    print(\"Medium = $7\")\n",
    "elif size.upper() == \"L\":\n",
    "    print(\"Large = $8\")\n",
    "else:\n",
    "    print(\"Size\",size,\"is not available\")\n"
   ]
  },
  {
   "cell_type": "markdown",
   "metadata": {},
   "source": [
    "# Casting\n",
    "\n",
    "Casting is the conversion from one data type to another Such as converting from `str` to `int`"
   ]
  },
  {
   "cell_type": "markdown",
   "metadata": {},
   "source": [
    "`int()`\n",
    "\n",
    "the `int()` function can convert stings that represent whole counting numbers into integers and strip decimals to convert float numbers to integers\n",
    "\n",
    "-    `int(\"1\") = 1` the string representing the integer character `\"1\"`, cast to a number\n",
    "-    `int(5.1) = 5` the decimal `(float)`, 5.1, truncated into a non-decimal `(integer)`\n",
    "-    `int(\"5.1\") = ValueError \"5.1\"` isn't a string representation of `integer, int()` can cast only strings representing integer values\n",
    "\n",
    "### Example"
   ]
  },
  {
   "cell_type": "code",
   "execution_count": 2,
   "metadata": {},
   "outputs": [
    {
     "name": "stdout",
     "output_type": "stream",
     "text": [
      "230\n"
     ]
    }
   ],
   "source": [
    "weight1 = '60' # a string\n",
    "weight2 = 170 # an integer\n",
    "# add 2 integers\n",
    "total_weight = int(weight1) + weight2\n",
    "print(total_weight)"
   ]
  },
  {
   "cell_type": "markdown",
   "metadata": {},
   "source": [
    "### Task 2\n",
    "casting with `int()` & `str()`\n",
    "\n",
    "Add the 3 numbers as integers and print the result\n",
    "\n",
    "``` python\n",
    "str_num_1 = \"11\"\n",
    "str_num_2 = \"15\"\n",
    "int_num_3 = 10\n",
    "```"
   ]
  },
  {
   "cell_type": "code",
   "execution_count": 3,
   "metadata": {},
   "outputs": [
    {
     "name": "stdout",
     "output_type": "stream",
     "text": [
      "36\n"
     ]
    }
   ],
   "source": [
    "# [ ] Add the 3 numbers as integers and print the result\n",
    "str_num_1 = \"11\"\n",
    "str_num_2 = \"15\"\n",
    "int_num_3 = 10\n",
    "\n",
    "print(int(str_num_1) + int(str_num_2) + int_num_3)"
   ]
  },
  {
   "cell_type": "markdown",
   "metadata": {},
   "source": [
    "### Task 3 cont...\n",
    "\n",
    "Program: adding using `int` casting\n",
    "\n",
    " -   [ ] initialize `str_integer` variable to a string containing characters of an integer (quotes)\n",
    " -   [ ] initialize `int_number` variable with an integer value (no quotes)\n",
    " -   [ ] initialize `number_total` variable and add `int_number + str_integer` using int casting\n",
    " -   [ ] print the sum `(number_total)`\n"
   ]
  },
  {
   "cell_type": "code",
   "execution_count": 4,
   "metadata": {},
   "outputs": [
    {
     "name": "stdout",
     "output_type": "stream",
     "text": [
      "295\n"
     ]
    }
   ],
   "source": [
    "str_integer = \"100\"\n",
    "int_number = 195\n",
    "number_total = int(str_integer ) + int_number \n",
    "print(number_total)"
   ]
  },
  {
   "cell_type": "markdown",
   "metadata": {},
   "source": [
    "# Concept: Casting Numeric Input\n",
    "\n",
    "Casting input() strings that represent numbers to integer values\n",
    "\n",
    "### Example"
   ]
  },
  {
   "cell_type": "code",
   "execution_count": 1,
   "metadata": {},
   "outputs": [
    {
     "name": "stdout",
     "output_type": "stream",
     "text": [
      "enter student age (integer): 5b\n"
     ]
    },
    {
     "ename": "ValueError",
     "evalue": "invalid literal for int() with base 10: '5b'",
     "output_type": "error",
     "traceback": [
      "\u001b[1;31m---------------------------------------------------------------------------\u001b[0m",
      "\u001b[1;31mValueError\u001b[0m                                Traceback (most recent call last)",
      "\u001b[1;32m<ipython-input-1-1dc27414b66a>\u001b[0m in \u001b[0;36m<module>\u001b[1;34m()\u001b[0m\n\u001b[0;32m      1\u001b[0m \u001b[1;31m# [ ] review and run code\u001b[0m\u001b[1;33m\u001b[0m\u001b[1;33m\u001b[0m\u001b[0m\n\u001b[0;32m      2\u001b[0m \u001b[0mstudent_age\u001b[0m \u001b[1;33m=\u001b[0m \u001b[0minput\u001b[0m\u001b[1;33m(\u001b[0m\u001b[1;34m'enter student age (integer): '\u001b[0m\u001b[1;33m)\u001b[0m\u001b[1;33m\u001b[0m\u001b[0m\n\u001b[1;32m----> 3\u001b[1;33m \u001b[0mage_next_year\u001b[0m \u001b[1;33m=\u001b[0m \u001b[0mint\u001b[0m\u001b[1;33m(\u001b[0m\u001b[0mstudent_age\u001b[0m\u001b[1;33m)\u001b[0m \u001b[1;33m+\u001b[0m \u001b[1;36m1\u001b[0m\u001b[1;33m\u001b[0m\u001b[0m\n\u001b[0m\u001b[0;32m      4\u001b[0m \u001b[0mprint\u001b[0m\u001b[1;33m(\u001b[0m\u001b[1;34m'Next year student will be'\u001b[0m\u001b[1;33m,\u001b[0m\u001b[0mage_next_year\u001b[0m\u001b[1;33m)\u001b[0m\u001b[1;33m\u001b[0m\u001b[0m\n\u001b[0;32m      5\u001b[0m \u001b[1;33m\u001b[0m\u001b[0m\n",
      "\u001b[1;31mValueError\u001b[0m: invalid literal for int() with base 10: '5b'"
     ]
    }
   ],
   "source": [
    "# [ ] review and run code\n",
    "student_age = input('enter student age (integer): ')\n",
    "age_next_year = int(student_age) + 1\n",
    "print('Next year student will be',age_next_year)\n",
    "\n",
    "# [ ] review and run code\n",
    "# cast to int at input\n",
    "\n",
    "student_age = int(input('enter student age (integer): '))\n",
    "age_in_decade = student_age + 10\n",
    "\n",
    "print('In a decade the student will be', age_in_decade)\n"
   ]
  },
  {
   "cell_type": "markdown",
   "metadata": {},
   "source": [
    "### Task 3\n",
    "Program: adding calculator\n",
    "\n",
    "-    get input of 2 integer numbers\n",
    "-    cast the input and print the input followed by the result\n",
    "    - Output Example: `9 + 13 = 22`\n",
    "\n",
    "Optional: check if input `.isdigit()` before trying integer addition to avoid errors in casting invalid inputs"
   ]
  },
  {
   "cell_type": "code",
   "execution_count": 34,
   "metadata": {},
   "outputs": [
    {
     "name": "stdout",
     "output_type": "stream",
     "text": [
      "5\n",
      "55\n",
      "5 + 55 = 60\n"
     ]
    }
   ],
   "source": [
    "input1 = input()\n",
    "input2 = input()\n",
    "\n",
    "if input1.isdigit() and input2.isdigit() == True:\n",
    "    print(input1,\"+\",input2,\"=\",int(input1) + int(input2))\n",
    "else:\n",
    "    print(\"please enter digits only\")\n",
    "    "
   ]
  },
  {
   "cell_type": "code",
   "execution_count": 2,
   "metadata": {},
   "outputs": [
    {
     "name": "stdout",
     "output_type": "stream",
     "text": [
      "size is recorded\n"
     ]
    }
   ],
   "source": [
    " size_num = \"8 9 10\"\n",
    "\n",
    "size = \"8\" # user input\n",
    "\n",
    "if size.isdigit() == False:\n",
    "    print(\"Invalid: size should only use digits\")\n",
    "elif int(size) < 8:\n",
    "    print(\"size is too low\")\n",
    "elif size in size_num:\n",
    "    print(\"size is recorded\")\n",
    "else:\n",
    "    print(\"size is too high\")"
   ]
  },
  {
   "cell_type": "markdown",
   "metadata": {},
   "source": [
    "# Math Operators\n",
    "\n",
    "- perform subtraction, multiplication and division operations in code\n",
    "\n",
    "Math basic operators\n",
    "\n",
    "- `+ addition`\n",
    "- `- subtraction`\n",
    "- `* multiplication`\n",
    "- `/ division`\n",
    "\n",
    "### Example"
   ]
  },
  {
   "cell_type": "code",
   "execution_count": 3,
   "metadata": {},
   "outputs": [
    {
     "name": "stdout",
     "output_type": "stream",
     "text": [
      "3 + 5 = 8\n",
      "3 + 5 - 9 = -1\n",
      "48/9 = 5.333333333333333\n",
      "5*5 = 25\n",
      "(14 - 8)*(19/4) = 28.5\n",
      "enter a non-decimal number you wish were bigger: 5\n",
      "Now you have 5000000\n"
     ]
    }
   ],
   "source": [
    "# [ ] review and run example\n",
    "print(\"3 + 5 =\",3 + 5)\n",
    "print(\"3 + 5 - 9 =\", 3 + 5 - 9)\n",
    "print(\"48/9 =\", 48/9) ## always float\n",
    "print(\"5*5 =\", 5*5)\n",
    "print(\"(14 - 8)*(19/4) =\", (14 - 8)*(19/4))\n",
    "\n",
    "# [ ] review and run example - 'million_maker'\n",
    "def million_maker():\n",
    "    make_big = input(\"enter a non-decimal number you wish were bigger: \")\n",
    "    return int(make_big)*1000000\n",
    "\n",
    "print(\"Now you have\", million_maker())\n",
    "\n"
   ]
  },
  {
   "cell_type": "markdown",
   "metadata": {},
   "source": [
    "### Task 1\n",
    "use math operators to solve the set of tasks below\n",
    "\n",
    "- print the result of subtracting 15 from 43\n",
    "- print the result of multiplying 15 and 43\n",
    "- print the result of dividing 156 by 12\n",
    "- print the result of dividing 21 by 0.5\n",
    "- print the result of adding 111 plus 84 and then subtracting 45\n",
    "- print the result of adding 21 and 4 and then multiplying that sum by 4\n",
    "\n",
    "\n"
   ]
  },
  {
   "cell_type": "code",
   "execution_count": 5,
   "metadata": {},
   "outputs": [
    {
     "data": {
      "text/plain": [
       "-28"
      ]
     },
     "execution_count": 5,
     "metadata": {},
     "output_type": "execute_result"
    }
   ],
   "source": [
    "# [ ] print the result of subtracting 15 from 43\n",
    "15 - 43 "
   ]
  },
  {
   "cell_type": "code",
   "execution_count": 6,
   "metadata": {},
   "outputs": [
    {
     "data": {
      "text/plain": [
       "645"
      ]
     },
     "execution_count": 6,
     "metadata": {},
     "output_type": "execute_result"
    }
   ],
   "source": [
    "# [ ] print the result of multiplying 15 and 43\n",
    "15 * 43\n"
   ]
  },
  {
   "cell_type": "code",
   "execution_count": 7,
   "metadata": {},
   "outputs": [
    {
     "data": {
      "text/plain": [
       "13.0"
      ]
     },
     "execution_count": 7,
     "metadata": {},
     "output_type": "execute_result"
    }
   ],
   "source": [
    "# [ ] print the result of dividing 156 by 12\n",
    "156 / 12\n"
   ]
  },
  {
   "cell_type": "code",
   "execution_count": 8,
   "metadata": {},
   "outputs": [
    {
     "data": {
      "text/plain": [
       "42.0"
      ]
     },
     "execution_count": 8,
     "metadata": {},
     "output_type": "execute_result"
    }
   ],
   "source": [
    "# [ ] print the result of dividing 21 by 0.5\n",
    "21 / 0.5"
   ]
  },
  {
   "cell_type": "code",
   "execution_count": 12,
   "metadata": {},
   "outputs": [
    {
     "data": {
      "text/plain": [
       "150"
      ]
     },
     "execution_count": 12,
     "metadata": {},
     "output_type": "execute_result"
    }
   ],
   "source": [
    "# [ ] print the result of adding 111 plus 84 and then subtracting 45\n",
    "111 + 84 - 45"
   ]
  },
  {
   "cell_type": "code",
   "execution_count": 16,
   "metadata": {},
   "outputs": [
    {
     "data": {
      "text/plain": [
       "100"
      ]
     },
     "execution_count": 16,
     "metadata": {},
     "output_type": "execute_result"
    }
   ],
   "source": [
    "# [ ] print the result of adding 21 and 4 and then multiplying that sum by 4\n",
    "(21 + 4) * 4"
   ]
  },
  {
   "cell_type": "markdown",
   "metadata": {},
   "source": [
    "### Task 2\n",
    "Program: Multiplying Calculator Function\n",
    "\n",
    "- define function `multiply()`, and within the function:\n",
    "- gets user `input()` of 2 strings made of whole numbers\n",
    "- cast the input to `int()`\n",
    "- `multiply` the integers and return the equation with result as a `str()`\n",
    "- return example\n",
    "\n",
    "`9 * 13 = 117`\n",
    "\n"
   ]
  },
  {
   "cell_type": "code",
   "execution_count": 35,
   "metadata": {},
   "outputs": [
    {
     "name": "stdout",
     "output_type": "stream",
     "text": [
      "Please enter first numbers: 5a\n",
      "Please enter second numbers: 6f\n",
      "entered numbers are not digit, please enter digits only\n"
     ]
    }
   ],
   "source": [
    "def multiply():\n",
    "    input_num1 = input(\"Please enter first numbers: \")\n",
    "    input_num2 = input(\"Please enter second numbers: \")\n",
    "    if input_num1.isdigit() and input_num2.isdigit() == True:\n",
    "        input_num1 = int(input_num1)\n",
    "        input_num2 = int(input_num2)\n",
    "        return print(input_num1,\"+\",input_num2,\"=\",input_num1 + input_num2)\n",
    "    else:\n",
    "        print(\"entered numbers are not digit, please enter digits only\")\n",
    "        \n",
    "multiply()"
   ]
  },
  {
   "cell_type": "markdown",
   "metadata": {},
   "source": [
    "### Task 3\n",
    "#### Project: Improved Multiplying Calculator Function\n",
    "\n",
    "putting together conditionals, input casting and math\n",
    "\n",
    "-    update the `multiply()` function to multiply or divide\n",
    "-        single parameter is operator with arguments of `*` or `/` operator\n",
    "-        default operator is `\"*\" (multiply)`\n",
    "-        return the result of multiplication or division\n",
    "-        if operator other than `\"*\"` or `\"/\"` then return `\"Invalid Operator\"`\n"
   ]
  },
  {
   "cell_type": "code",
   "execution_count": 51,
   "metadata": {},
   "outputs": [
    {
     "name": "stdout",
     "output_type": "stream",
     "text": [
      "Please enter first numbers: 9\n",
      "Please enter second numbers: 10\n",
      "9 / 10 = 0.9\n"
     ]
    }
   ],
   "source": [
    "def u_multiply(v_operator = \"*\"):\n",
    "    if v_operator in \"*,/\":\n",
    "        input_num1 = input(\"Please enter first numbers: \")\n",
    "        input_num2 = input(\"Please enter second numbers: \")\n",
    "        \n",
    "        if input_num1.isdigit() and input_num2.isdigit() == True:\n",
    "            input_num1 = int(input_num1)\n",
    "            input_num2 = int(input_num2)\n",
    "            if v_operator == \"/\":\n",
    "                return print(input_num1,v_operator,input_num2,\"=\",(input_num1 / input_num2))\n",
    "            else:\n",
    "                return print(input_num1,v_operator,input_num2,\"=\",(input_num1 * input_num2))         \n",
    "        else:\n",
    "            print(\"entered numbers are not digit, please enter digits only\")\n",
    "    else:\n",
    "        print(\"Invalid Operator\")\n",
    "                             \n",
    "u_multiply(\"/\")"
   ]
  },
  {
   "cell_type": "markdown",
   "metadata": {},
   "source": [
    "### Task 4\n",
    "Fix the Errors\n",
    "\n",
    "- Review, run, fix \n",
    "``` python\n",
    "student_name = input(\"enter name: \").capitalize()\n",
    "if student_name.startswith(\"F\"):\n",
    "    print(student_name,\"Congratulations, names starting with 'F' get to go first today!\")\n",
    "elif student_name.startswith(\"G\")\n",
    "    print(student_name,\"Congratulations, names starting with 'G' get to go second today!\")\n",
    "else:\n",
    "    print(student_name, \"please wait for students with names staring with 'F' and 'G' to go first today.\")\n",
    "```\n",
    "\n"
   ]
  },
  {
   "cell_type": "code",
   "execution_count": 54,
   "metadata": {},
   "outputs": [
    {
     "name": "stdout",
     "output_type": "stream",
     "text": [
      "enter name: 5 5\n",
      "5 5 please wait for students with names staring with 'F' and 'G' to go first today.\n"
     ]
    }
   ],
   "source": [
    "student_name = input(\"enter name: \").capitalize()\n",
    "\n",
    "if student_name.startswith(\"F\"):\n",
    "    print(student_name,\"Congratulations, names starting with 'F' get to go first today!\")\n",
    "elif student_name.startswith(\"G\"): ### missing \":\"\n",
    "    print(student_name,\"Congratulations, names starting with 'G' get to go second today!\")\n",
    "else:\n",
    "    print(student_name, \"please wait for students with names staring with 'F' and 'G' to go first today.\")"
   ]
  },
  {
   "cell_type": "code",
   "execution_count": 56,
   "metadata": {},
   "outputs": [
    {
     "data": {
      "text/plain": [
       "21"
      ]
     },
     "execution_count": 56,
     "metadata": {},
     "output_type": "execute_result"
    }
   ],
   "source": [
    "x = 3 + 9 * 2\n",
    "x"
   ]
  },
  {
   "cell_type": "code",
   "execution_count": 57,
   "metadata": {},
   "outputs": [
    {
     "data": {
      "text/plain": [
       "1.0"
      ]
     },
     "execution_count": 57,
     "metadata": {},
     "output_type": "execute_result"
    }
   ],
   "source": [
    "3/3"
   ]
  },
  {
   "cell_type": "code",
   "execution_count": 65,
   "metadata": {},
   "outputs": [
    {
     "data": {
      "text/plain": [
       "13.0"
      ]
     },
     "execution_count": 65,
     "metadata": {},
     "output_type": "execute_result"
    }
   ],
   "source": [
    "# 5 + 15 / 5 + 3 * 2 - 1\n",
    "#first multiply \n",
    "    5 + 15 / 5 + (3 * 2) - 1\n",
    "    # result 5 + 15 / 5 + 6 - 1\n",
    "\n",
    "# next divide\n",
    "    5 + (15 / 5) + 6 - 1\n",
    "    # result 5 + 3.0 + 6 - 1\n",
    "# now final plus / minus\n",
    "    5 + 3.0 + 6 - 1\n",
    "    # result 13.0"
   ]
  },
  {
   "cell_type": "code",
   "execution_count": 66,
   "metadata": {},
   "outputs": [
    {
     "data": {
      "text/plain": [
       "6"
      ]
     },
     "execution_count": 66,
     "metadata": {},
     "output_type": "execute_result"
    }
   ],
   "source": [
    "3*2"
   ]
  },
  {
   "cell_type": "code",
   "execution_count": 67,
   "metadata": {},
   "outputs": [
    {
     "data": {
      "text/plain": [
       "3.0"
      ]
     },
     "execution_count": 67,
     "metadata": {},
     "output_type": "execute_result"
    }
   ],
   "source": [
    "15 / 5"
   ]
  },
  {
   "cell_type": "code",
   "execution_count": 68,
   "metadata": {},
   "outputs": [
    {
     "data": {
      "text/plain": [
       "13.0"
      ]
     },
     "execution_count": 68,
     "metadata": {},
     "output_type": "execute_result"
    }
   ],
   "source": [
    " 5 + 3.0 + 6 - 1"
   ]
  },
  {
   "cell_type": "markdown",
   "metadata": {},
   "source": [
    "# Practice "
   ]
  },
  {
   "cell_type": "markdown",
   "metadata": {},
   "source": [
    "- if else\n",
    "- `input` a variable: `age` as digit and cast to `int`\n",
    "- if age greater than or equal to 12 then print message on `age in 10 years` \n",
    "- or else print message `\"It is good to be\"` age\n"
   ]
  },
  {
   "cell_type": "code",
   "execution_count": 19,
   "metadata": {},
   "outputs": [
    {
     "name": "stdout",
     "output_type": "stream",
     "text": [
      "please enter age: 25\n",
      "25\n"
     ]
    }
   ],
   "source": [
    "# if else\n",
    "# [ ] input a variable: age as digit and cast to int\n",
    "age = input(\"please enter age: \")\n",
    "print(int(age))"
   ]
  },
  {
   "cell_type": "code",
   "execution_count": null,
   "metadata": {},
   "outputs": [],
   "source": [
    "# if age greater than or equal to 12 then print message on age in 10 years \n",
    "# or else print message \"It is good to be\" age\n",
    "\n",
    "if int(age) >= 12:\n",
    "    print(\"Age in 10 years = \",int(age)+10)\n",
    "else:\n",
    "    print(\"It is good to be\",age)"
   ]
  },
  {
   "cell_type": "markdown",
   "metadata": {},
   "source": [
    "- `input` a number \n",
    "- if number IS a `digit` string then cast to `int`\n",
    "- print number `\"greater than 100 is\" True/False`\n",
    "- if number is `NOT a digit` string then message the user that `\"only int is accepted\"`"
   ]
  },
  {
   "cell_type": "code",
   "execution_count": 24,
   "metadata": {},
   "outputs": [
    {
     "name": "stdout",
     "output_type": "stream",
     "text": [
      "200\n",
      "greater than 100 is True\n"
     ]
    }
   ],
   "source": [
    "num = input()\n",
    "if num.isdigit() == True:\n",
    "    num = int(num)\n",
    "    print(\"greater than 100 is\",num > 100)\n",
    "else:\n",
    "    print(\"only int is accepted\")"
   ]
  },
  {
   "cell_type": "markdown",
   "metadata": {},
   "source": [
    "### Guessing a letter A-Z\n",
    "\n",
    "- `check_guess()` takes 2 string arguments: `letter` and `guess` (both expect single alphabetical character)\n",
    "- if guess is not an alpha character `print invalid` and `return False` \n",
    "- test and `print` if guess is `\"high\" or \"low\"` and return `False`\n",
    "- test and print if guess is `\"correct\"` and return `True`\n"
   ]
  },
  {
   "cell_type": "code",
   "execution_count": 2,
   "metadata": {},
   "outputs": [],
   "source": [
    "def check_guess(letter, guess):\n",
    "    if letter.isalpha() and len(letter) <= 1 and guess.isalpha() and len(guess) <=1 == True:\n",
    "        if guess.lower() > letter.lower():\n",
    "            print(guess,\"is high\")\n",
    "            return False\n",
    "        elif guess.lower() < letter.lower():\n",
    "            print(guess,\"is low\")\n",
    "            return False\n",
    "        elif guess.lower() == letter.lower():\n",
    "            print(guess,\"is correct\")\n",
    "            return True\n",
    "    else:\n",
    "        print(\"Invalid\")\n",
    "        return False"
   ]
  },
  {
   "cell_type": "code",
   "execution_count": 3,
   "metadata": {},
   "outputs": [
    {
     "name": "stdout",
     "output_type": "stream",
     "text": [
      "Invalid\n",
      "False\n"
     ]
    }
   ],
   "source": [
    "result = check_guess(\"ll\", \"L\")\n",
    "print(result)"
   ]
  },
  {
   "cell_type": "code",
   "execution_count": 4,
   "metadata": {},
   "outputs": [
    {
     "name": "stdout",
     "output_type": "stream",
     "text": [
      "False\n"
     ]
    }
   ],
   "source": [
    "print(result)"
   ]
  },
  {
   "cell_type": "markdown",
   "metadata": {},
   "source": [
    "### Letter Guess\n",
    "\n",
    "- create `letter_guess()` function that gives user `3 guesses`\n",
    "- takes a letter character argument for the answer `letter`\n",
    "- gets user `input` for `letter guess`\n",
    "- calls `check_guess()` with `answer` and `guess`\n",
    "- End `letter_guess` if `check_guess()` equals `True`, return `True`\n",
    "- or after 3 failed attempts, return `False`\n",
    "\n"
   ]
  },
  {
   "cell_type": "code",
   "execution_count": 12,
   "metadata": {},
   "outputs": [],
   "source": [
    "answer = \"M\"\n",
    "\n",
    "def letter_guess():\n",
    "    i = 1\n",
    "    while i < 4:\n",
    "        u_guess = input(\"enter guess letter: \")\n",
    "        if check_guess(answer,u_guess) == True:\n",
    "            return True\n",
    "        else:\n",
    "            pass\n",
    "            i = i + 1\n",
    "    print(\"you have failed all 3 attempts\")\n",
    "    return False    "
   ]
  },
  {
   "cell_type": "code",
   "execution_count": 13,
   "metadata": {},
   "outputs": [
    {
     "name": "stdout",
     "output_type": "stream",
     "text": [
      "enter guess letter: g\n",
      "g is low\n",
      "enter guess letter: h\n",
      "h is low\n",
      "enter guess letter: m\n",
      "m is correct\n"
     ]
    }
   ],
   "source": [
    "result = letter_guess()"
   ]
  },
  {
   "cell_type": "code",
   "execution_count": null,
   "metadata": {},
   "outputs": [],
   "source": [
    "print(result)"
   ]
  },
  {
   "cell_type": "markdown",
   "metadata": {},
   "source": [
    "### Pet Conversation\n",
    "\n",
    "ask the user for a sentence about a pet and then reply\n",
    "\n",
    "- get user `input` in variable: `about_pet`\n",
    "- using a series of `if` statements respond with appropriate conversation \n",
    "- check if `\"dog\"` is in the string `about_pet` (sample reply `\"Ah, a dog\"`)\n",
    "- check if `\"cat\"` is in the string `about_pet`\n",
    "- check if `1 or more` animal is in string `about_pet`\n",
    "- no need for `else's`\n",
    "- finish with `thanking for the story`\n"
   ]
  },
  {
   "cell_type": "code",
   "execution_count": 2,
   "metadata": {},
   "outputs": [
    {
     "name": "stdout",
     "output_type": "stream",
     "text": [
      "1 please tell us about your pet: dog\n",
      "Ah, a dog\n",
      "2 please tell us about your pet: cat\n",
      "Ah, a cat\n",
      "3 please tell us about your pet: cat and dog\n",
      "Ah, a dog\n",
      "4 please tell us about your pet: f\n",
      "thanks for the story\n"
     ]
    }
   ],
   "source": [
    "i = 1\n",
    "while i < 5:\n",
    "    about_pet = input(str(i)+\" please tell us about your pet: \")\n",
    "    if \"dog\" in about_pet.lower():\n",
    "        print(\"Ah, a dog\")\n",
    "    elif \"cat\" in about_pet.lower():\n",
    "        print(\"Ah, a cat\")\n",
    "    i = i + 1\n",
    "print(\"thanks for the story\")"
   ]
  },
  {
   "cell_type": "markdown",
   "metadata": {},
   "source": [
    "### Rainbow colors\n",
    "\n",
    "ask for input of a favorite rainbow color first letter: ROYGBIV\n",
    "\n",
    "Using `if, elif, and else`:\n",
    "\n",
    "print the color matching the letter \n",
    "\n",
    "- R = Red\n",
    "- O = Orange\n",
    "- Y = Yellow\n",
    "- G = Green\n",
    "- B = Blue\n",
    "- I = Indigo\n",
    "- V = Violet\n",
    "- else print \"no match\"\n",
    "\n",
    "\n"
   ]
  },
  {
   "cell_type": "code",
   "execution_count": 14,
   "metadata": {},
   "outputs": [],
   "source": [
    "def rainbow_colors(letter = \"R\"):\n",
    "    #letter = input(\"please enter letter for rainbow color ROYGBIV: \")\n",
    "    if letter.isalpha() and len(letter) <= 1 == True:\n",
    "        if letter.upper() == \"R\":\n",
    "            return \"Red\"\n",
    "        elif letter.upper() == \"O\":\n",
    "            return \"Orange\"\n",
    "        elif letter.upper() == \"Y\":\n",
    "            return \"Yellow\"\n",
    "        elif letter.upper() == \"G\":\n",
    "            return \"Green\"\n",
    "        elif letter.upper() == \"B\":\n",
    "            return \"Blue\"\n",
    "        elif letter.upper() == \"I\":\n",
    "            return \"Indigo\"\n",
    "        elif letter.upper() == \"V\":\n",
    "            return \"Violet\"\n",
    "        else:\n",
    "            return \"no match\"\n",
    "    else:\n",
    "        return \"Please enter letter only\""
   ]
  },
  {
   "cell_type": "code",
   "execution_count": 18,
   "metadata": {},
   "outputs": [
    {
     "name": "stdout",
     "output_type": "stream",
     "text": [
      "Please enter letter only\n"
     ]
    }
   ],
   "source": [
    "print(rainbow_colors(\"5\"))"
   ]
  },
  {
   "cell_type": "markdown",
   "metadata": {},
   "source": [
    "Create function `age_20()` that adds or subtracts `20` from your `age` for a return value based on `current age` (use if)\n",
    "\n",
    "- call the funtion with user input and then use the return value in a sentence\n",
    "\n",
    "\n",
    "- ` example age_20(25) returns 5:`\n",
    "- `\"5 years old, 20 years difference from now\"`\n"
   ]
  },
  {
   "cell_type": "code",
   "execution_count": 11,
   "metadata": {},
   "outputs": [],
   "source": [
    "def age_20(cur_age = \"\"):\n",
    "    #cur_age = input(\"please enter current age: \")\n",
    "    if int(cur_age) - 20 <= 0:\n",
    "        print(cur_age,\"years old, 20 years difference from now\",int(cur_age) + 20)\n",
    "        return int(cur_age) + 20\n",
    "    else:\n",
    "        print(cur_age,\"years old, 20 years difference from now\",int(cur_age) - 20)\n",
    "        return int(cur_age) - 20"
   ]
  },
  {
   "cell_type": "code",
   "execution_count": 14,
   "metadata": {},
   "outputs": [
    {
     "name": "stdout",
     "output_type": "stream",
     "text": [
      "20 years old, 20 years difference from now 40\n",
      "40\n"
     ]
    }
   ],
   "source": [
    "print(age_20(20))"
   ]
  },
  {
   "cell_type": "markdown",
   "metadata": {},
   "source": [
    "### rainbow_or_age \n",
    "\n",
    "create a function rainbow_or_age that takes a string argument\n",
    "\n",
    "- if argument is a `digit` return the value of calling `age_20()` with the str value cast as int\n",
    "- if argument is an `alphabetical` character return the value of calling `rainbow_color()` with the str\n",
    "- if neither return `FALSE`\n"
   ]
  },
  {
   "cell_type": "code",
   "execution_count": 18,
   "metadata": {},
   "outputs": [],
   "source": [
    "def rainbow_or_age(arg = \"\"):\n",
    "    arg = input(\"please enter digit or letter\")\n",
    "    if arg.isdigit() == True:\n",
    "        return print(age_20(arg))\n",
    "    elif arg.isalpha() == True:\n",
    "        return print(rainbow_colors(arg))\n",
    "    else:\n",
    "        pass    "
   ]
  },
  {
   "cell_type": "code",
   "execution_count": 25,
   "metadata": {},
   "outputs": [
    {
     "name": "stdout",
     "output_type": "stream",
     "text": [
      "please enter digit or letter25\n",
      "25 years old, 20 years difference from now 5\n",
      "5\n"
     ]
    }
   ],
   "source": [
    "rainbow_or_age()"
   ]
  },
  {
   "cell_type": "markdown",
   "metadata": {},
   "source": [
    "### Program: Cheese Order\n",
    "\n",
    "-    set values for `maximum` and `minimum` `order variables`\n",
    "-    set value for `price` variable\n",
    "-    get `order_amount` input and cast to a `number`\n",
    "-    check `order_amount` and give message `checking against`\n",
    "  -      `over maximum`\n",
    "  -     `under minimum`\n",
    "-    else within `maximum` and `minimum` give message with `calculated price`\n",
    "\n",
    "\n",
    "Sample input and output:\n",
    "\n",
    "`Enter cheese order weight (numeric value): 113`\n",
    "\n",
    "113.0 is more than currently available stock\n",
    "\n",
    "`Enter cheese order weight (numeric value): .15`\n",
    "\n",
    "0.15 is below minimum order amount\n",
    "\n",
    "`Enter cheese order weight (numeric value): 2`\n",
    "\n",
    "2.0 costs $15.98\n",
    "\n"
   ]
  },
  {
   "cell_type": "code",
   "execution_count": 4,
   "metadata": {},
   "outputs": [],
   "source": [
    "def cheese_order():\n",
    "    maximum = 80\n",
    "    minimum = 10\n",
    "    price = 25\n",
    "    order_amount = input(\"Enter cheese order weight (numeric value): \")\n",
    "    if order_amount.isdigit() == True:\n",
    "        order_amount = float(order_amount)\n",
    "        print(\"checking against\",order_amount)\n",
    "        if int(order_amount) > maximum:\n",
    "            return print(order_amount,\"is more than currently available stock\")\n",
    "        elif int(order_amount) < minimum:\n",
    "            return print(order_amount,\"is below minimum order amount\")\n",
    "        else:\n",
    "            return print(order_amount,\"costs \",\"$\" + str(order_amount*price))\n",
    "    else:\n",
    "        return print(\"You have entered incorrect value\")"
   ]
  },
  {
   "cell_type": "code",
   "execution_count": 7,
   "metadata": {},
   "outputs": [
    {
     "name": "stdout",
     "output_type": "stream",
     "text": [
      "Enter cheese order weight (numeric value): 80\n",
      "checking against 80.0\n",
      "80.0 costs  $2000.0\n"
     ]
    }
   ],
   "source": [
    "cheese_order()"
   ]
  },
  {
   "cell_type": "code",
   "execution_count": 19,
   "metadata": {},
   "outputs": [
    {
     "name": "stdout",
     "output_type": "stream",
     "text": [
      "Apple\n"
     ]
    }
   ],
   "source": [
    " if True:\n",
    "    if False: # will always not run\n",
    "        print(\"Banana\")\n",
    "    else:\n",
    "        print(\"Apple\")"
   ]
  },
  {
   "cell_type": "code",
   "execution_count": null,
   "metadata": {},
   "outputs": [],
   "source": []
  }
 ],
 "metadata": {
  "kernelspec": {
   "display_name": "Python 3",
   "language": "python",
   "name": "python3"
  },
  "language_info": {
   "codemirror_mode": {
    "name": "ipython",
    "version": 3
   },
   "file_extension": ".py",
   "mimetype": "text/x-python",
   "name": "python",
   "nbconvert_exporter": "python",
   "pygments_lexer": "ipython3",
   "version": "3.6.3"
  }
 },
 "nbformat": 4,
 "nbformat_minor": 2
}
