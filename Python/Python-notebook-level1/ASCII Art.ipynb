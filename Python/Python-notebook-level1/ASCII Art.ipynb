{
 "cells": [
  {
   "cell_type": "markdown",
   "metadata": {},
   "source": [
    "# ASCII Art\n",
    "## Concept: Character Art"
   ]
  },
  {
   "cell_type": "code",
   "execution_count": 1,
   "metadata": {},
   "outputs": [
    {
     "name": "stdout",
     "output_type": "stream",
     "text": [
      "    *\n",
      "   * *\n",
      "  *****\n",
      " *     *\n",
      "*       *\n",
      "\n"
     ]
    }
   ],
   "source": [
    "# the letter 'A'\n",
    "print(\"    *\")\n",
    "print(\"   * *\")\n",
    "print(\"  *****\")\n",
    "print(\" *     *\")\n",
    "print(\"*       *\")\n",
    "print()"
   ]
  },
  {
   "cell_type": "code",
   "execution_count": 7,
   "metadata": {},
   "outputs": [
    {
     "name": "stdout",
     "output_type": "stream",
     "text": [
      "_         _      \n",
      " \\       /     \n",
      "  \\ . . /   \n",
      "     V   \n",
      "\n",
      "\n",
      "*******\n",
      "*\n",
      "*******\n",
      "*\n",
      "*******\n",
      "\n"
     ]
    }
   ],
   "source": [
    "\"\"\"\n",
    "Extra Task\n",
    "    create the flying bird in character art in the Code cell below\n",
    "\n",
    "_         _      \n",
    " \\       /     \n",
    "  \\ . . /   \n",
    "     V   \n",
    "\"\"\"\n",
    "\n",
    "# create # [ ] flying bird character art \n",
    "print(\"\"\"_         _      \n",
    " \\       /     \n",
    "  \\ . . /   \n",
    "     V   \n",
    "\"\"\")\n",
    "\n",
    "#    create the capital letter \"E\" in character art in the Code cell below\n",
    "# [ ] capital letter \"E\" character art\n",
    "print(\"\"\"\n",
    "*******\n",
    "*\n",
    "*******\n",
    "*\n",
    "*******\n",
    "\"\"\")\n",
    "\n"
   ]
  },
  {
   "cell_type": "code",
   "execution_count": null,
   "metadata": {},
   "outputs": [],
   "source": []
  }
 ],
 "metadata": {
  "kernelspec": {
   "display_name": "Python 3",
   "language": "python",
   "name": "python3"
  },
  "language_info": {
   "codemirror_mode": {
    "name": "ipython",
    "version": 3
   },
   "file_extension": ".py",
   "mimetype": "text/x-python",
   "name": "python",
   "nbconvert_exporter": "python",
   "pygments_lexer": "ipython3",
   "version": "3.6.3"
  }
 },
 "nbformat": 4,
 "nbformat_minor": 2
}
