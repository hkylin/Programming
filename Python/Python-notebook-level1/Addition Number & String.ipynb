{
 "cells": [
  {
   "cell_type": "code",
   "execution_count": 2,
   "metadata": {},
   "outputs": [
    {
     "data": {
      "text/plain": [
       "22"
      ]
     },
     "execution_count": 2,
     "metadata": {},
     "output_type": "execute_result"
    }
   ],
   "source": [
    "19+3"
   ]
  },
  {
   "cell_type": "code",
   "execution_count": 3,
   "metadata": {},
   "outputs": [
    {
     "data": {
      "text/plain": [
       "12.5"
      ]
     },
     "execution_count": 3,
     "metadata": {},
     "output_type": "execute_result"
    }
   ],
   "source": [
    "3.4+9.1"
   ]
  },
  {
   "cell_type": "code",
   "execution_count": 12,
   "metadata": {},
   "outputs": [
    {
     "name": "stdout",
     "output_type": "stream",
     "text": [
      "my shoe color is brown\n",
      "mayur sharma\n"
     ]
    }
   ],
   "source": [
    "shoe_color = \"brown\"\n",
    "print(\"my shoe color is \" + shoe_color)\n",
    "print(\"mayur\" + \" \" + \"sharma\")"
   ]
  },
  {
   "cell_type": "code",
   "execution_count": 14,
   "metadata": {},
   "outputs": [
    {
     "name": "stdout",
     "output_type": "stream",
     "text": [
      "6\n",
      "7.5\n",
      "This notebook belongs to Mayur\n",
      "6\n",
      "Mayur, remember to save the notebook frequently\n"
     ]
    }
   ],
   "source": [
    "#String and Number Addition\n",
    "\n",
    "# [ ] add 3 integer numbers\n",
    "print(1+2+3)\n",
    "\n",
    "# [ ] add a float number and an integer number\n",
    "print(2.5+5)\n",
    "\n",
    "# [ ] Add the string \"This notebook belongs to \" and a string with your first name\n",
    "print(\"This notebook belongs to \" + \"Mayur\")\n",
    "\n",
    "# [ ] Create variables sm_number and big_number and assign numbers then add the numbers\n",
    "sm_number = 1\n",
    "big_number = 5\n",
    "print(sm_number + big_number)\n",
    "\n",
    "# [ ] assign a string value to the variable first_name and add to the string \", remember to save the notebook frequently\"\n",
    "first_name = \"Mayur\"\n",
    "print(first_name + \", remember to save the notebook frequently\")\n"
   ]
  },
  {
   "cell_type": "code",
   "execution_count": 19,
   "metadata": {},
   "outputs": [
    {
     "name": "stdout",
     "output_type": "stream",
     "text": [
      "My favorite food is Pizza\n",
      "35\n",
      "My favorite food is Pizza which cost $35\n"
     ]
    }
   ],
   "source": [
    "#Task 3: multi-part\n",
    "#create Integer addition and string addition output\n",
    "\n",
    "# [ ] perform string addition in the variable named new_msg (add a string to \"my favorite food is \")\n",
    "new_msg = \"My favorite food is\" + \" Pizza\"\n",
    "print(new_msg)\n",
    "\n",
    "\n",
    "# [ ] perform Integer addition in the variable named new_msg (add 2 or more Integers)\n",
    "new_sum =   0 + 15 + 20\n",
    "print(new_sum)\n",
    "\n",
    "# [ ] create and print a new string variable, new_msg_2, that concatenates new_msg + a literal string\n",
    "new_msg_2 =   new_msg + \" which cost $\" + str(new_sum) ## note new_sum has type integer and had to be converted to string first.\n",
    "print(new_msg_2 )\n"
   ]
  },
  {
   "cell_type": "code",
   "execution_count": 20,
   "metadata": {
    "scrolled": false
   },
   "outputs": [
    {
     "name": "stdout",
     "output_type": "stream",
     "text": [
      "345\n",
      "the street number of Central School is 123\n",
      "<class 'float'>\n",
      "<class 'int'>\n",
      "6.3\n"
     ]
    }
   ],
   "source": [
    "#Fix TypeError\n",
    "#\n",
    "#    Review the code in the cells below and then run the code\n",
    "#    Fix any errors and run until the code no longer shows errors\n",
    "\n",
    "# [ ] review and run the code - then fix any Errors\n",
    "total_cost = str(3) + \"45\"\n",
    "print(total_cost)\n",
    "\n",
    "# [ ] review and run the code - then fix any Errors\n",
    "school_num = str(123)\n",
    "print(\"the street number of Central School is \" + school_num)\n",
    "\n",
    "# [ ] Read and run the code - write a hypothesis for what you observe adding float + int\n",
    "#  [ add operation works for float and interger data type] HYPOTHESIS: \n",
    "\n",
    "print(type(3.3))\n",
    "print(type(3))\n",
    "print(3.3 + 3)\n",
    "\n",
    "\n"
   ]
  },
  {
   "cell_type": "markdown",
   "metadata": {},
   "source": [
    "### SyntaxError"
   ]
  },
  {
   "cell_type": "code",
   "execution_count": 21,
   "metadata": {},
   "outputs": [
    {
     "name": "stdout",
     "output_type": "stream",
     "text": [
      "my socks do not match\n",
      "my socks match now\n",
      "Save the notebook frequently\n",
      "Alton\n",
      "3 students are signed up for tutoring\n"
     ]
    }
   ],
   "source": [
    "#Task 4\n",
    "#Fix Errors\n",
    "#    Tip: explaining errors to a partner often reveals a solution (works even if explaining error to a pencil)\n",
    "\n",
    "# [ ] repair the syntax error \n",
    "# print('my socks do not match\") \n",
    "print(\"my socks do not match\")       \n",
    "\n",
    "# [ ] repair the NameError  \n",
    "# pront(\"my socks match now\") \n",
    "print(\"my socks match now\")\n",
    "\n",
    "# [ ] repair the syntax error \n",
    "#print\"Save the notebook frequently\")\n",
    "print(\"Save the notebook frequently\")\n",
    "\n",
    "# [ ] repair the NameError \n",
    "# student_name = \"Alton\"\n",
    "# print(STUDENT_NAME)\n",
    "student_name = \"Alton\"\n",
    "print(student_name)\n",
    "\n",
    "# [ ] repair the TypeError\n",
    "# total = 3\n",
    "# print(total + \" students are signed up for tutoring\")\n",
    "total = 3\n",
    "print(str(total) + \" students are signed up for tutoring\")\n"
   ]
  }
 ],
 "metadata": {
  "kernelspec": {
   "display_name": "Python 3",
   "language": "python",
   "name": "python3"
  },
  "language_info": {
   "codemirror_mode": {
    "name": "ipython",
    "version": 3
   },
   "file_extension": ".py",
   "mimetype": "text/x-python",
   "name": "python",
   "nbconvert_exporter": "python",
   "pygments_lexer": "ipython3",
   "version": "3.6.3"
  }
 },
 "nbformat": 4,
 "nbformat_minor": 2
}
