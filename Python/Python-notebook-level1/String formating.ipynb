{
 "cells": [
  {
   "cell_type": "markdown",
   "metadata": {},
   "source": [
    "# Boolean String tests"
   ]
  },
  {
   "cell_type": "code",
   "execution_count": 6,
   "metadata": {},
   "outputs": [
    {
     "data": {
      "text/plain": [
       "True"
      ]
     },
     "execution_count": 6,
     "metadata": {},
     "output_type": "execute_result"
    }
   ],
   "source": [
    "\"Python\".isalpha()"
   ]
  },
  {
   "cell_type": "code",
   "execution_count": 9,
   "metadata": {},
   "outputs": [
    {
     "data": {
      "text/plain": [
       "True"
      ]
     },
     "execution_count": 9,
     "metadata": {},
     "output_type": "execute_result"
    }
   ],
   "source": [
    "\"3rd\".isalnum()"
   ]
  },
  {
   "cell_type": "code",
   "execution_count": 11,
   "metadata": {},
   "outputs": [
    {
     "data": {
      "text/plain": [
       "True"
      ]
     },
     "execution_count": 11,
     "metadata": {},
     "output_type": "execute_result"
    }
   ],
   "source": [
    "\"save\".startswith(\"s\") # case sensitive"
   ]
  },
  {
   "cell_type": "code",
   "execution_count": 1,
   "metadata": {},
   "outputs": [
    {
     "data": {
      "text/plain": [
       "False"
      ]
     },
     "execution_count": 1,
     "metadata": {},
     "output_type": "execute_result"
    }
   ],
   "source": [
    "\"HEY\".islower()"
   ]
  },
  {
   "cell_type": "code",
   "execution_count": 4,
   "metadata": {},
   "outputs": [
    {
     "name": "stdout",
     "output_type": "stream",
     "text": [
      "True\n",
      "False\n"
     ]
    }
   ],
   "source": [
    "print(\"The End\".istitle()) ## every word must satrt with uper case latter\n",
    "print(\"The end\".istitle()) ## notice lower e in \"end\""
   ]
  },
  {
   "cell_type": "code",
   "execution_count": 6,
   "metadata": {},
   "outputs": [
    {
     "data": {
      "text/plain": [
       "True"
      ]
     },
     "execution_count": 6,
     "metadata": {},
     "output_type": "execute_result"
    }
   ],
   "source": [
    "\"123\".isdigit() # only works on strings"
   ]
  },
  {
   "cell_type": "markdown",
   "metadata": {},
   "source": [
    "# Using string formatting methods\n",
    "\n",
    "\n",
    "    .capitalize() - capitalizes the first character of a string\n",
    "    .lower() - all characters of a string are made lowercase\n",
    "    .upper() - all characters of a string are made uppercase\n",
    "    .swapcase() - all characters of a string are made to switch case upper becomes lower and vice versa\n",
    "    .title() - each 'word' separated by a space is capitalized\n"
   ]
  },
  {
   "cell_type": "code",
   "execution_count": 6,
   "metadata": {},
   "outputs": [
    {
     "data": {
      "text/plain": [
       "'Mayur'"
      ]
     },
     "execution_count": 6,
     "metadata": {},
     "output_type": "execute_result"
    }
   ],
   "source": [
    "text = \"mayur\"\n",
    "text1 = \"MAYUR\"\n",
    "text2 = \"Mayur\"\n",
    "text3 = \"lord of the rings\"\n",
    "text.capitalize()"
   ]
  },
  {
   "cell_type": "code",
   "execution_count": 17,
   "metadata": {},
   "outputs": [
    {
     "data": {
      "text/plain": [
       "'mayur'"
      ]
     },
     "execution_count": 17,
     "metadata": {},
     "output_type": "execute_result"
    }
   ],
   "source": [
    "text1.lower()"
   ]
  },
  {
   "cell_type": "code",
   "execution_count": 18,
   "metadata": {},
   "outputs": [
    {
     "data": {
      "text/plain": [
       "'MAYUR'"
      ]
     },
     "execution_count": 18,
     "metadata": {},
     "output_type": "execute_result"
    }
   ],
   "source": [
    "text.upper()"
   ]
  },
  {
   "cell_type": "code",
   "execution_count": 20,
   "metadata": {},
   "outputs": [
    {
     "data": {
      "text/plain": [
       "'mAYUR'"
      ]
     },
     "execution_count": 20,
     "metadata": {},
     "output_type": "execute_result"
    }
   ],
   "source": [
    "text2.swapcase()"
   ]
  },
  {
   "cell_type": "code",
   "execution_count": 22,
   "metadata": {},
   "outputs": [
    {
     "data": {
      "text/plain": [
       "'Lord Of The Rings'"
      ]
     },
     "execution_count": 22,
     "metadata": {},
     "output_type": "execute_result"
    }
   ],
   "source": [
    "text3.title()"
   ]
  },
  {
   "cell_type": "code",
   "execution_count": 23,
   "metadata": {},
   "outputs": [
    {
     "name": "stdout",
     "output_type": "stream",
     "text": [
      "Ms. browning is in her office.\n"
     ]
    }
   ],
   "source": [
    "print(\"ms. Browning is in her office.\".capitalize())"
   ]
  },
  {
   "cell_type": "code",
   "execution_count": 27,
   "metadata": {
    "scrolled": true
   },
   "outputs": [
    {
     "name": "stdout",
     "output_type": "stream",
     "text": [
      "Please enter fav food: mango\n",
      "MANGO\n",
      "mango\n",
      "MANGO\n",
      "Mango\n",
      "FOREST GREEN forest green fOREST gREEN Forest green\n"
     ]
    }
   ],
   "source": [
    "#Task 1: multi-part\n",
    "#format with .capitalize(), .lower(), .upper(), .swapcase()\n",
    "\n",
    "# [ ] get input for a variable, fav_food, that describes a favorite food\n",
    "fav_food = input(\"Please enter fav food: \")\n",
    "\n",
    "# [ ] display fav_food as ALL CAPS, used in a sentence\n",
    "print(fav_food.upper())\n",
    "\n",
    "# [ ] display fav_food as all lower case, used in a sentence\n",
    "print(fav_food.lower())\n",
    "\n",
    "# [] display fav_food with swapped case, used in a sentence\n",
    "\n",
    "print(fav_food.swapcase())\n",
    "# [] display fav_food with capitalization, used in a sentence\n",
    "print(fav_food.capitalize())\n",
    "\n",
    "fav_color = \"Forest Green\"\n",
    "# [] display the fav_color variable as upper, lower, swapcase, and capitalize formatting in a single print() statement\n",
    "\n",
    "print(fav_color.upper(),fav_color.lower(),fav_color.swapcase(),fav_color.capitalize())\n"
   ]
  },
  {
   "cell_type": "code",
   "execution_count": 1,
   "metadata": {},
   "outputs": [
    {
     "name": "stdout",
     "output_type": "stream",
     "text": [
      "this will change to upperMayur\n",
      "MAYUR\n"
     ]
    }
   ],
   "source": [
    "#Task 2\n",
    "#[ ] format   input() with .upper()\n",
    "\n",
    "# [] input variable fav_color as upper\n",
    "fav_color = input(\"this will change to upper\").upper()\n",
    "\n",
    "# [] print fav_color\n",
    "print(fav_color)\n",
    "\n"
   ]
  },
  {
   "cell_type": "markdown",
   "metadata": {},
   "source": [
    "# Boolean \"in\" Keyword"
   ]
  },
  {
   "cell_type": "markdown",
   "metadata": {},
   "source": [
    "Using the `in` keyword to return a `Boolean`\n",
    "\n",
    "the `in` keyword can be used as a simple search returning `True` or `False` indication if a string is included in a target sequence.\n",
    "comparing strings is case sensitive\n",
    "\n",
    "> <p><b>`'Hello'`</b> is not the same as <b>`'hello'`</b></p>"
   ]
  },
  {
   "cell_type": "code",
   "execution_count": 7,
   "metadata": {},
   "outputs": [
    {
     "name": "stdout",
     "output_type": "stream",
     "text": [
      "True\n"
     ]
    }
   ],
   "source": [
    "# review and run code to test if a string is to be found in another string\n",
    "menu = \"salad, pasta, sandwich, pizza, drinks, dessert\"\n",
    "print('pizza' in menu)"
   ]
  },
  {
   "cell_type": "code",
   "execution_count": 5,
   "metadata": {},
   "outputs": [
    {
     "name": "stdout",
     "output_type": "stream",
     "text": [
      "True\n"
     ]
    }
   ],
   "source": [
    "menu = \"gobi palak khira\"\n",
    "print('khira' in menu)"
   ]
  },
  {
   "cell_type": "code",
   "execution_count": 8,
   "metadata": {},
   "outputs": [
    {
     "name": "stdout",
     "output_type": "stream",
     "text": [
      "'hello' in greeting =  False\n",
      "'Hello' in greeting =  True\n"
     ]
    }
   ],
   "source": [
    "# review and run code to test case sensitive examples \n",
    "greeting = \"Hello World!\"\n",
    "print(\"'hello' in greeting = \",'hello' in greeting)\n",
    "print(\"'Hello' in greeting = \", 'Hello' in greeting)"
   ]
  },
  {
   "cell_type": "code",
   "execution_count": 9,
   "metadata": {},
   "outputs": [
    {
     "name": "stdout",
     "output_type": "stream",
     "text": [
      "'hello' in greeting =  False\n",
      "'Hello' in greeting =  True\n",
      "'hello' in greeting if lower used =  True\n"
     ]
    }
   ],
   "source": [
    "# review and run code to test removing case sensitivity from a string comparison\n",
    "greeting = \"Hello World!\"\n",
    "print(\"'hello' in greeting = \",'hello' in greeting)\n",
    "print(\"'Hello' in greeting = \", 'Hello' in greeting)\n",
    "print(\"'hello' in greeting if lower used = \", 'hello'.lower() in greeting.lower())"
   ]
  },
  {
   "cell_type": "markdown",
   "metadata": {},
   "source": [
    "\n",
    "#### Program: What is on the menu\n",
    "Create a program where a user can check if an item is on the menu\n",
    "\n",
    "menu = \"salad, pasta, sandwich, pizza, drinks, dessert\"\n",
    "\n",
    "- store the user response in a variable menu_ask\n",
    "- use the menu from above and add some additional items\n",
    "- the program should be able to ignore case mismatch so that \"hello\" is found in \"Hello World!\"\n",
    "\n",
    "Create a program where the user supplies input to search the menu\n"
   ]
  },
  {
   "cell_type": "code",
   "execution_count": 9,
   "metadata": {},
   "outputs": [
    {
     "name": "stdout",
     "output_type": "stream",
     "text": [
      "What you are looking in menu? water\n",
      "water is not available in menu, would you like to add it to menu? Y/N y\n",
      "water is added to menu,would you like to see new menu? Y/N n\n",
      "checking menu at the end salaD, pAsta, sandWich, pizza, drinks, dessert, chOcolatE, water\n"
     ]
    }
   ],
   "source": [
    "menu = \"salaD, pAsta, sandWich, pizza, drinks, dessert, chOcolatE\"\n",
    "menu_ask = input(\"What you are looking in menu? \")\n",
    "reply = menu_ask.lower() in menu.lower()\n",
    "if reply is True:\n",
    "    print(menu_ask,\"is available in menu\")\n",
    "else:\n",
    "    answer = input(menu_ask+\" is not available in menu, would you like to add it to menu? Y/N \")\n",
    "    if answer.lower() == 'y':\n",
    "        menu = menu + \", \" + menu_ask\n",
    "        answer = input(menu_ask + \" is added to menu,would you like to see new menu? Y/N \")\n",
    "        if answer.lower() == 'y':\n",
    "            print(menu)\n",
    "        else: next\n",
    "    else:\n",
    "        print(menu_ask,\"is not added to menu\")\n",
    "    #print(menu_ask,\"is not available in menu\")\n",
    "    print(\"checking menu at the end\",menu)"
   ]
  },
  {
   "cell_type": "code",
   "execution_count": 13,
   "metadata": {},
   "outputs": [
    {
     "ename": "NameError",
     "evalue": "name 'red' is not defined",
     "output_type": "error",
     "traceback": [
      "\u001b[1;31m---------------------------------------------------------------------------\u001b[0m",
      "\u001b[1;31mNameError\u001b[0m                                 Traceback (most recent call last)",
      "\u001b[1;32m<ipython-input-13-6032096bc092>\u001b[0m in \u001b[0;36m<module>\u001b[1;34m()\u001b[0m\n\u001b[0;32m      3\u001b[0m \u001b[1;31m# [ ] fix the error\u001b[0m\u001b[1;33m\u001b[0m\u001b[1;33m\u001b[0m\u001b[0m\n\u001b[0;32m      4\u001b[0m \u001b[0mpaint_colors\u001b[0m \u001b[1;33m=\u001b[0m \u001b[1;34m\"red, blue, green, black, orange, pink\"\u001b[0m\u001b[1;33m\u001b[0m\u001b[0m\n\u001b[1;32m----> 5\u001b[1;33m \u001b[0mprint\u001b[0m\u001b[1;33m(\u001b[0m\u001b[1;34m'Red in paint colors = '\u001b[0m\u001b[1;33m,\u001b[0m\u001b[0mred\u001b[0m \u001b[1;32min\u001b[0m \u001b[0mpaint_colors\u001b[0m\u001b[1;33m)\u001b[0m\u001b[1;33m\u001b[0m\u001b[0m\n\u001b[0m",
      "\u001b[1;31mNameError\u001b[0m: name 'red' is not defined"
     ]
    }
   ],
   "source": [
    "#Fix The Error\n",
    "\n",
    "# [ ] fix the error\n",
    "paint_colors = \"red, blue, green, black, orange, pink\"\n",
    "print('Red in paint colors = ',red in paint_colors)\n"
   ]
  },
  {
   "cell_type": "code",
   "execution_count": 12,
   "metadata": {},
   "outputs": [
    {
     "name": "stdout",
     "output_type": "stream",
     "text": [
      "Red in paint colors =  True\n"
     ]
    }
   ],
   "source": [
    "#Fixed\n",
    "# [ ] fix the error\n",
    "paint_colors = \"red, blue, green, black, orange, pink\"\n",
    "print('Red in paint colors = ','red' in paint_colors)"
   ]
  },
  {
   "cell_type": "code",
   "execution_count": 14,
   "metadata": {},
   "outputs": [
    {
     "name": "stdout",
     "output_type": "stream",
     "text": [
      "True\n"
     ]
    }
   ],
   "source": [
    "name = \"SKYE HOMSI\"\n",
    "print(\"y\" in name.lower())"
   ]
  },
  {
   "cell_type": "code",
   "execution_count": 36,
   "metadata": {},
   "outputs": [
    {
     "name": "stdout",
     "output_type": "stream",
     "text": [
      "MAYUR\n",
      "mayur\n"
     ]
    }
   ],
   "source": [
    "input1 = input()\n",
    "print(input1.lower())"
   ]
  },
  {
   "cell_type": "markdown",
   "metadata": {},
   "source": [
    "# Program: Allergy Check\n",
    " Create Allergy check code\n",
    " then PASTE THIS CODE into edX\n",
    "\n",
    "- get user input for categories of food eaten in the last 24 hours\n",
    "  save in a variable called input_test\n",
    "  example input 01 02 practice Allergy-input  \n",
    "- print True if \"dairy\" is in the input_test string\n",
    "- Test the code so far\n",
    "- modify the print statement to output similar to below\n",
    "  example output 01 02 Allergy output\n",
    "  Test the code so far trying input including the string \"dairy\" and without\n",
    "- repeat the process checking the input for \"nuts\", challenge add \"Seafood\" and \"chocolate\"\n",
    "- Test your code\n",
    "\n",
    "challenge: make your code work for input regardless of case, e.g. - print True for \"Nuts\", \"NuTs\", \"NUTS\" or \"nuts\"\n",
    "\n"
   ]
  },
  {
   "cell_type": "code",
   "execution_count": 19,
   "metadata": {},
   "outputs": [
    {
     "name": "stdout",
     "output_type": "stream",
     "text": [
      "Please enter categories of food eaten in the last 24 hours (separate by ',') : s, d, n, and c cake\n",
      "it is False \"s, d, n, and c cake\" contains \"dairy\"\n",
      "it is False \"s, d, n, and c cake\" contains \"nuts\"\n",
      "it is False \"s, d, n, and c cake\" contains \"Seafood\"\n",
      "it is False \"s, d, n, and c cake\" contains \"chocolate\"\n"
     ]
    }
   ],
   "source": [
    "# get user input for categories of food eaten in the last 24 hours \n",
    "# save in a variable called input_test\n",
    "input_test = input(\"Please enter categories of food eaten in the last 24 hours (separate by ',') : \")\n",
    "\n",
    "# print True if \"dairy\" is in the input_test string\n",
    "#print('Dairy'.lower() in input_test.lower() )\n",
    "\n",
    "# Test the code so far\n",
    "#- modify the print statement to output similar to below\n",
    "#  example \"It is True that \"seafood, dairy, nuts, and chocolate cake\" contains \"dairy\"\n",
    "#  Test the code so far trying input including the string \"dairy\" and without\n",
    "print('it is','dairy'.lower() in input_test.lower(),'\"'+input_test+'\"','contains \"dairy\"')\n",
    "#- repeat the process checking the input for \"nuts\", challenge add \"Seafood\" and \"chocolate\"\n",
    "print('it is','nuts'.lower() in input_test.lower(),'\"'+input_test+'\"','contains \"nuts\"')\n",
    "print('it is','Seafood'.lower() in input_test.lower(),'\"'+input_test+'\"','contains \"Seafood\"')\n",
    "print('it is','chocolate'.lower() in input_test.lower(),'\"'+input_test+'\"','contains \"chocolate\"')\n",
    "#- Test your code"
   ]
  },
  {
   "cell_type": "markdown",
   "metadata": {},
   "source": [
    "# Formating using Escape Sequence\n",
    "\n",
    "\n",
    "\n",
    "-    escape sequences all start with a backslash `(\\)`\n",
    "\n",
    "-    escape sequences can be used to display characters in python reserved for formatting\n",
    " -       `\\\\`   Backslash `(\\)`\n",
    " -       `\\'`   Single quote `(')`\n",
    " -       `\\\"`   Double quote `(\")`\n",
    "\n",
    "-    escape sequences are part of special formatting characters\n",
    " -       `\\t`   Tab\n",
    " -       `\\n`   return or newline\n",
    "\n",
    "We use escape sequences in strings - usually with `print()` statements\n",
    "\n",
    "### Example"
   ]
  },
  {
   "cell_type": "code",
   "execution_count": 4,
   "metadata": {},
   "outputs": [
    {
     "name": "stdout",
     "output_type": "stream",
     "text": [
      "Hello World!\n",
      "I am formatting print \n"
     ]
    }
   ],
   "source": [
    "# review and run example using \\n (new line)\n",
    "print('Hello World!\\nI am formatting print ')\n"
   ]
  },
  {
   "cell_type": "code",
   "execution_count": 5,
   "metadata": {},
   "outputs": [
    {
     "name": "stdout",
     "output_type": "stream",
     "text": [
      "STUDENT NAME\t\tAGE\n",
      "Hiroto Yamaguchi \t17\n"
     ]
    }
   ],
   "source": [
    "# review and run code using \\t (tab)\n",
    "student_age = 17\n",
    "student_name = \"Hiroto Yamaguchi\"\n",
    "print(\"STUDENT NAME\\t\\tAGE\")\n",
    "print(student_name,'\\t' + str(student_age))"
   ]
  },
  {
   "cell_type": "code",
   "execution_count": 6,
   "metadata": {},
   "outputs": [
    {
     "name": "stdout",
     "output_type": "stream",
     "text": [
      "\"quotes in quotes\"\n",
      "I've said \"save your notebook,\" so let's do it!\n"
     ]
    }
   ],
   "source": [
    "# review and run code \n",
    "# using \\\" and \\' (escaped quotes)\n",
    "print(\"\\\"quotes in quotes\\\"\")\n",
    "print(\"I\\'ve said \\\"save your notebook,\\\" so let\\'s do it!\")"
   ]
  },
  {
   "cell_type": "code",
   "execution_count": 7,
   "metadata": {},
   "outputs": [
    {
     "name": "stdout",
     "output_type": "stream",
     "text": [
      "for a newline use \\n\n"
     ]
    }
   ],
   "source": [
    "# using  \\\\ (escaped backslash)\n",
    "print(\"for a newline use \\\\n\")"
   ]
  },
  {
   "cell_type": "markdown",
   "metadata": {},
   "source": [
    "### Task 1\n",
    "\n",
    "Format using backslash (\\) escape sequences\n",
    "\n",
    "- print `\"\\\\\\WARNING!///\"`\n",
    "- print output that is exactly (with quotes): `\"What's that?\" isn't a specific question.`\n",
    "- from 1 `print statement` output the text commented below using no spaces\n",
    "    - One     Two     Three\n",
    "    - Four    Five    Six\n"
   ]
  },
  {
   "cell_type": "code",
   "execution_count": 29,
   "metadata": {},
   "outputs": [
    {
     "name": "stdout",
     "output_type": "stream",
     "text": [
      "\"\\\\\\WARNING!///\"\n",
      "\"What's that?\" isn't a specific question.\n",
      "one\tTwo\tThree\n",
      "Four\tFive\tSix\n"
     ]
    }
   ],
   "source": [
    "# [ ] print \"\\\\\\WARNING!///\"\n",
    "print(\"\\\"\\\\\\\\\\WARNING!///\\\"\")\n",
    "\n",
    "# [ ] print output that is exactly (with quotes): \"What's that?\" isn't a specific question.\n",
    "print('\"What\\'s that?\" isn\\'t a specific question.')\n",
    "\n",
    "# [ ] from 1 print statement output the text commented below using no spaces\n",
    "# One     Two     Three\n",
    "# Four    Five    Six\n",
    "\n",
    "print(\"one\\tTwo\\tThree\\nFour\\tFive\\tSix\")\n",
    "\n"
   ]
  },
  {
   "cell_type": "markdown",
   "metadata": {},
   "source": [
    "### Task 2\n",
    "\n",
    "### Program: pre_word() Function\n",
    "\n",
    "Function has a single string parameter that it checks s is a single word starting with \"pre\"\n",
    "\n",
    "-    Check if word starts with `\"pre\"`\n",
    "-    Check if word `.isalpha()`\n",
    "-    if all checks pass: return `True`\n",
    "-    if any checks fail: return `False`\n",
    "-    **Test**\n",
    " -       get `input` using the directions: `*enter a word that starts with \"pre\": *`\n",
    " -       call `pre_word()` with the input string\n",
    " -       test if return value is `False` and print message explaining `not a \"pre\" word`\n",
    " -       else print message explaining `is a valid \"pre\" word`"
   ]
  },
  {
   "cell_type": "code",
   "execution_count": 1,
   "metadata": {},
   "outputs": [],
   "source": [
    "def pre_word(word=\"\"):\n",
    "    if word.isalpha() == True:\n",
    "        if word.lower().startswith(\"pre\") == True:\n",
    "            return True\n",
    "        else:\n",
    "            return False\n",
    "    else:\n",
    "        return False\n",
    "    "
   ]
  },
  {
   "cell_type": "code",
   "execution_count": 2,
   "metadata": {},
   "outputs": [
    {
     "name": "stdout",
     "output_type": "stream",
     "text": [
      "*enter a word that starts with \"pre\": *mayur123\n",
      "not a \"pre\" word\n"
     ]
    }
   ],
   "source": [
    "word = input(\"*enter a word that starts with \\\"pre\\\": *\")\n",
    "if pre_word(word) == True:\n",
    "    print(\"is a valid \\\"pre\\\" word\")\n",
    "else:\n",
    "    print('not a \"pre\" word')"
   ]
  },
  {
   "cell_type": "code",
   "execution_count": 39,
   "metadata": {},
   "outputs": [
    {
     "name": "stdout",
     "output_type": "stream",
     "text": [
      "\\\\\\\\\n"
     ]
    }
   ],
   "source": [
    "print(\"\\\\\\\\\\\\\\\\\")"
   ]
  },
  {
   "cell_type": "code",
   "execution_count": 43,
   "metadata": {},
   "outputs": [
    {
     "name": "stdout",
     "output_type": "stream",
     "text": [
      "It's\n",
      "Python Time!\n",
      "It's\n",
      "Python Time!\n"
     ]
    }
   ],
   "source": [
    "print(\"It\\'s\\nPython Time!\")\n",
    "print(\"It's\\nPython Time!\")\n"
   ]
  }
 ],
 "metadata": {
  "kernelspec": {
   "display_name": "Python 3",
   "language": "python",
   "name": "python3"
  },
  "language_info": {
   "codemirror_mode": {
    "name": "ipython",
    "version": 3
   },
   "file_extension": ".py",
   "mimetype": "text/x-python",
   "name": "python",
   "nbconvert_exporter": "python",
   "pygments_lexer": "ipython3",
   "version": "3.6.3"
  }
 },
 "nbformat": 4,
 "nbformat_minor": 2
}
