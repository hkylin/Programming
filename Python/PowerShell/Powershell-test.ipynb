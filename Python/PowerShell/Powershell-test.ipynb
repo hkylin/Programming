{
 "cells": [
  {
   "cell_type": "code",
   "execution_count": null,
   "metadata": {},
   "outputs": [],
   "source": [
    "get-process | select -first 5"
   ]
  },
  {
   "cell_type": "code",
   "execution_count": null,
   "metadata": {
    "scrolled": false
   },
   "outputs": [],
   "source": [
    "get-date"
   ]
  },
  {
   "cell_type": "code",
   "execution_count": null,
   "metadata": {},
   "outputs": [],
   "source": [
    "get-childitem"
   ]
  },
  {
   "cell_type": "code",
   "execution_count": null,
   "metadata": {},
   "outputs": [],
   "source": [
    "write-host \"Hello\""
   ]
  },
  {
   "cell_type": "code",
   "execution_count": null,
   "metadata": {},
   "outputs": [],
   "source": [
    "\n",
    "# [ ] Create the Shirt Register program, run tests\n",
    "\n",
    "$small = 0\n",
    "$small_cost = 0\n",
    "$medium = 0\n",
    "$medium_cost = 0\n",
    "$large = 0\n",
    "$large_cost = 0\n",
    "$total_shirt = 0\n",
    "$total_shirt_cost = 0\n",
    "\n",
    "\n",
    "while ($True){\n",
    "    $size = s #Read-Host(\"Enter the shirt size (S,M,L) or Exit to finish \")\n",
    "    if ($size -eq \"exit\"){\n",
    "        break\n",
    "        }\n",
    "    elseif ($size -eq \"s\"){\n",
    "        $small += 1\n",
    "        $small_cost += 6\n",
    "        }\n",
    "    elseif ($size -eq \"m\"){\n",
    "        $medium += 1\n",
    "        $medium_cost += 7\n",
    "        }\n",
    "    elseif ($size -eq \"l\"){\n",
    "        $large += 1\n",
    "        $large_cost += 8\n",
    "        }\n",
    "    else{\n",
    "        echo(\"invalid entry not counted\")\n",
    "        }\n",
    "    $total_shirt = $small + $medium + $large\n",
    "    $total_shirt_cost = $small_cost + $medium_cost + $large_cost\n",
    "}\n",
    "    \n",
    "echo(\"------------------------`n \n",
    "Size`tQty`tCost`n\n",
    "------------------------`n\n",
    "Small`t$small`t`$$small_cost`n\n",
    "Medium`t$medium`t`$$medium_cost`n\n",
    "Large`t$large`t`$$large_cost`n\n",
    "========================`n\n",
    "Total:`t$total_shirt`t$total_shirt_cost\")"
   ]
  },
  {
   "cell_type": "code",
   "execution_count": null,
   "metadata": {},
   "outputs": [],
   "source": []
  },
  {
   "cell_type": "code",
   "execution_count": null,
   "metadata": {},
   "outputs": [],
   "source": []
  }
 ],
 "metadata": {
  "kernelspec": {
   "display_name": "PowerShell",
   "language": "powershell",
   "name": "powershell"
  },
  "language_info": {
   "codemirror_mode": "shell",
   "file_extension": ".ps1",
   "mimetype": "text/x-sh",
   "name": "powershell"
  }
 },
 "nbformat": 4,
 "nbformat_minor": 2
}
